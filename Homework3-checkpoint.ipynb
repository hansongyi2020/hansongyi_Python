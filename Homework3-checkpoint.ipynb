{
 "cells": [
  {
   "cell_type": "markdown",
   "id": "048a5128",
   "metadata": {},
   "source": [
    "# Homework2_스크립트프로그래밍\n",
    "## 컴퓨터공학부_2020136135_한송이¶"
   ]
  },
  {
   "cell_type": "markdown",
   "id": "d24a71e1",
   "metadata": {},
   "source": [
    "[일반 문제]"
   ]
  },
  {
   "cell_type": "markdown",
   "id": "f698de42",
   "metadata": {},
   "source": [
    "1. L=[1, 2, 3, 4, 5]일 때 다음 각 문장을 수행한 후의 결과를 보고 납득할 만한 이유를 설명하시오."
   ]
  },
  {
   "cell_type": "code",
   "execution_count": 3,
   "id": "2d79308e",
   "metadata": {},
   "outputs": [
    {
     "name": "stdout",
     "output_type": "stream",
     "text": [
      "[1, 100, 4, 5]\n"
     ]
    }
   ],
   "source": [
    "L=[1, 2, 3, 4, 5]\n",
    "L[1:3] = [100]\n",
    "print(L)"
   ]
  },
  {
   "cell_type": "markdown",
   "id": "ae2fd342",
   "metadata": {},
   "source": [
    "index 1부터 2까지를 100으로 다시 초기화시켰다.  \n",
    "index 1부터 2까지는 [2, 3]이므로 [1, 100, 4, 5]가 출력된다."
   ]
  },
  {
   "cell_type": "code",
   "execution_count": 11,
   "id": "1dc47140",
   "metadata": {},
   "outputs": [
    {
     "name": "stdout",
     "output_type": "stream",
     "text": [
      "[1, 100, 4, 5]\n"
     ]
    }
   ],
   "source": [
    "L=[1, 2, 3, 4, 5]\n",
    "L[1:3] = [(100)]\n",
    "print(L)"
   ]
  },
  {
   "cell_type": "markdown",
   "id": "b8f2e730",
   "metadata": {},
   "source": [
    "(100)은 int이다. 즉 예제 1과 같이 [100]형태이므로 결과는 [1, 100, 4, 5]이다. "
   ]
  },
  {
   "cell_type": "code",
   "execution_count": 13,
   "id": "fc9b80c6",
   "metadata": {},
   "outputs": [
    {
     "ename": "TypeError",
     "evalue": "can only assign an iterable",
     "output_type": "error",
     "traceback": [
      "\u001b[1;31m---------------------------------------------------------------------------\u001b[0m",
      "\u001b[1;31mTypeError\u001b[0m                                 Traceback (most recent call last)",
      "\u001b[1;32m<ipython-input-13-b14b6d5e9def>\u001b[0m in \u001b[0;36m<module>\u001b[1;34m\u001b[0m\n\u001b[0;32m      1\u001b[0m \u001b[0mL\u001b[0m\u001b[1;33m=\u001b[0m\u001b[1;33m[\u001b[0m\u001b[1;36m1\u001b[0m\u001b[1;33m,\u001b[0m \u001b[1;36m2\u001b[0m\u001b[1;33m,\u001b[0m \u001b[1;36m3\u001b[0m\u001b[1;33m,\u001b[0m \u001b[1;36m4\u001b[0m\u001b[1;33m,\u001b[0m \u001b[1;36m5\u001b[0m\u001b[1;33m]\u001b[0m\u001b[1;33m\u001b[0m\u001b[1;33m\u001b[0m\u001b[0m\n\u001b[1;32m----> 2\u001b[1;33m \u001b[0mL\u001b[0m\u001b[1;33m[\u001b[0m\u001b[1;36m1\u001b[0m\u001b[1;33m:\u001b[0m\u001b[1;36m3\u001b[0m\u001b[1;33m]\u001b[0m \u001b[1;33m=\u001b[0m \u001b[1;36m100\u001b[0m\u001b[1;33m\u001b[0m\u001b[1;33m\u001b[0m\u001b[0m\n\u001b[0m\u001b[0;32m      3\u001b[0m \u001b[0mprint\u001b[0m\u001b[1;33m(\u001b[0m\u001b[0mL\u001b[0m\u001b[1;33m)\u001b[0m\u001b[1;33m\u001b[0m\u001b[1;33m\u001b[0m\u001b[0m\n",
      "\u001b[1;31mTypeError\u001b[0m: can only assign an iterable"
     ]
    }
   ],
   "source": [
    "L=[1, 2, 3, 4, 5]\n",
    "L[1:3] = 100\n",
    "print(L)"
   ]
  },
  {
   "cell_type": "markdown",
   "id": "852ccf26",
   "metadata": {},
   "source": [
    "list에는 반복할 수 있는 값이 들어와야야 한다. 즉, [100] list 형태로 초기화해야 한다."
   ]
  },
  {
   "cell_type": "code",
   "execution_count": 14,
   "id": "7afb6e91",
   "metadata": {},
   "outputs": [
    {
     "ename": "TypeError",
     "evalue": "can only assign an iterable",
     "output_type": "error",
     "traceback": [
      "\u001b[1;31m---------------------------------------------------------------------------\u001b[0m",
      "\u001b[1;31mTypeError\u001b[0m                                 Traceback (most recent call last)",
      "\u001b[1;32m<ipython-input-14-9714c1575170>\u001b[0m in \u001b[0;36m<module>\u001b[1;34m\u001b[0m\n\u001b[0;32m      1\u001b[0m \u001b[0mL\u001b[0m\u001b[1;33m=\u001b[0m\u001b[1;33m[\u001b[0m\u001b[1;36m1\u001b[0m\u001b[1;33m,\u001b[0m \u001b[1;36m2\u001b[0m\u001b[1;33m,\u001b[0m \u001b[1;36m3\u001b[0m\u001b[1;33m,\u001b[0m \u001b[1;36m4\u001b[0m\u001b[1;33m,\u001b[0m \u001b[1;36m5\u001b[0m\u001b[1;33m]\u001b[0m\u001b[1;33m\u001b[0m\u001b[1;33m\u001b[0m\u001b[0m\n\u001b[1;32m----> 2\u001b[1;33m \u001b[0mL\u001b[0m\u001b[1;33m[\u001b[0m\u001b[1;36m1\u001b[0m\u001b[1;33m:\u001b[0m\u001b[1;36m3\u001b[0m\u001b[1;33m]\u001b[0m \u001b[1;33m=\u001b[0m \u001b[1;33m(\u001b[0m\u001b[1;36m100\u001b[0m\u001b[1;33m)\u001b[0m\u001b[1;33m\u001b[0m\u001b[1;33m\u001b[0m\u001b[0m\n\u001b[0m\u001b[0;32m      3\u001b[0m \u001b[0mprint\u001b[0m\u001b[1;33m(\u001b[0m\u001b[0mL\u001b[0m\u001b[1;33m)\u001b[0m\u001b[1;33m\u001b[0m\u001b[1;33m\u001b[0m\u001b[0m\n",
      "\u001b[1;31mTypeError\u001b[0m: can only assign an iterable"
     ]
    }
   ],
   "source": [
    "L=[1, 2, 3, 4, 5]\n",
    "L[1:3] = (100)\n",
    "print(L)"
   ]
  },
  {
   "cell_type": "markdown",
   "id": "96a8ebbb",
   "metadata": {},
   "source": [
    "(100)은 int형이기에 위와 같은 iterable 오류가 발생한다. [100]으로 고쳐야 한다."
   ]
  },
  {
   "cell_type": "code",
   "execution_count": 15,
   "id": "7e6304b0",
   "metadata": {},
   "outputs": [
    {
     "name": "stdout",
     "output_type": "stream",
     "text": [
      "[1, 100, 101, 102, 4, 5]\n"
     ]
    }
   ],
   "source": [
    "L=[1, 2, 3, 4, 5]\n",
    "L[1:3] = (100, 101, 102)\n",
    "print(L)\n"
   ]
  },
  {
   "cell_type": "markdown",
   "id": "fc3643ea",
   "metadata": {},
   "source": [
    "(100, 101, 102)는 튜플 형태이다. L의 index 1과 2자리에 (100, 101, 102)을 넣는다.  \n",
    "튜플과 리스트는 거의 동일하지만, 리스트와 달리 튜플은 요소의 추가, 삭제, 수정, 등이 불가능하게 되어있다."
   ]
  },
  {
   "cell_type": "code",
   "execution_count": 20,
   "id": "e2b4ca3c",
   "metadata": {},
   "outputs": [
    {
     "name": "stdout",
     "output_type": "stream",
     "text": [
      "[1, 100, 101, 102, 4, 5]\n"
     ]
    }
   ],
   "source": [
    "L=[1, 2, 3, 4, 5]\n",
    "L[1:3] = [100, 101, 102]\n",
    "print(L)"
   ]
  },
  {
   "cell_type": "markdown",
   "id": "23685302",
   "metadata": {},
   "source": [
    "[100, 101, 102]는 list이다. L의 index 1과 2자리에 [100, 101, 102]을 넣는다."
   ]
  },
  {
   "cell_type": "code",
   "execution_count": 18,
   "id": "7c212740",
   "metadata": {},
   "outputs": [
    {
     "name": "stdout",
     "output_type": "stream",
     "text": [
      "[1, (100, 101, 102), 4, 5]\n"
     ]
    }
   ],
   "source": [
    "L=[1, 2, 3, 4, 5]\n",
    "L[1:3] = [(100, 101, 102)]\n",
    "print(L)"
   ]
  },
  {
   "cell_type": "markdown",
   "id": "505f0a1f",
   "metadata": {},
   "source": [
    "list안에는 다양한 형태의 요소가 올 수 있다. 당연히 튜플 (100, 101, 102)도 올 수 있다.  \n",
    "L의 index 1과 2자리에 튜플 (100, 101, 102)을 넣는다."
   ]
  },
  {
   "cell_type": "code",
   "execution_count": 19,
   "id": "56cfba4d",
   "metadata": {},
   "outputs": [
    {
     "name": "stdout",
     "output_type": "stream",
     "text": [
      "[1, [100, 101, 102], 4, 5]\n"
     ]
    }
   ],
   "source": [
    "L=[1, 2, 3, 4, 5]\n",
    "L[1:3] = [[100, 101, 102]]\n",
    "print(L)"
   ]
  },
  {
   "cell_type": "markdown",
   "id": "5ad10bd9",
   "metadata": {},
   "source": [
    "list 안에 list가 들어와 2차원 형태를 가지게 된다.  \n",
    "100, 101, 102 접근은 L[1][0], L[1][1], L[1][2]이다."
   ]
  },
  {
   "cell_type": "markdown",
   "id": "666cdc4d",
   "metadata": {},
   "source": [
    "2. 문자열 S = 'Hello World and Python'에 대해 다음 요구사항에 대한 Python 코드를 제시하시오.  \n",
    "1) 단어의 순서가 역순으로 되어진 문자열 ('Python and World Hello')을 만들고  \n",
    "2) 1)의 결과 문자열에 대해 메소드 split과 join을 이용하여 공백을 모두 없엔 문자열 'PythonandWorldHello'을 만드시오."
   ]
  },
  {
   "cell_type": "code",
   "execution_count": 23,
   "id": "d2c487cd",
   "metadata": {},
   "outputs": [
    {
     "name": "stdout",
     "output_type": "stream",
     "text": [
      "Python and World and Hello\n",
      "PythonandWorldandHello\n"
     ]
    }
   ],
   "source": [
    "S = 'Hello World and Python'\n",
    "\n",
    "S = S[16:] + S[11: 15] + S[5:16] + S[:5]\n",
    "print(S)\n",
    "\n",
    "S = ''.join(S.split(\" \"))\n",
    "print(S)"
   ]
  },
  {
   "cell_type": "markdown",
   "id": "3bc77754",
   "metadata": {},
   "source": [
    "문자열 Slicing을 사용해 Python and World Hello을 만들었다.  \n",
    "split(\" \") 함수를 사용하여 공백으로 문자열을 나눈 뒤 list로 저장한다.  \n",
    "이것을 ''.join 함수로 연결할 수 있다. 이때 ' '.join과 ''.join은 공백 차이가 있으니 주의해야 한다."
   ]
  },
  {
   "cell_type": "markdown",
   "id": "5a2bf4fe",
   "metadata": {},
   "source": [
    "3. 다음 코드를 보고 물음에 답하시오.\n",
    "\n",
    "    a = [1, 2, 3]  \n",
    "    b = a * 3  \n",
    "    c = [a] * 3  \n",
    "    print(b)  \n",
    "    print(c)  \n",
    "    1) 위 코드를 수행한 이후 다음 코드를 수행한 후 b와 c의 내용을 확인하시오.  \n",
    "        a[0]=0  \n",
    "    2) b와 c 객체의 차이는 무엇인가?"
   ]
  },
  {
   "cell_type": "code",
   "execution_count": 24,
   "id": "2762da9d",
   "metadata": {},
   "outputs": [
    {
     "name": "stdout",
     "output_type": "stream",
     "text": [
      "[1, 2, 3, 1, 2, 3, 1, 2, 3]\n",
      "[[1, 2, 3], [1, 2, 3], [1, 2, 3]]\n"
     ]
    }
   ],
   "source": [
    "a = [1, 2, 3]\n",
    "b = a * 3\n",
    "c = [a] * 3\n",
    "print(b)\n",
    "print(c)"
   ]
  },
  {
   "cell_type": "code",
   "execution_count": 26,
   "id": "9f70b565",
   "metadata": {},
   "outputs": [
    {
     "name": "stdout",
     "output_type": "stream",
     "text": [
      "[1, 2, 3, 1, 2, 3, 1, 2, 3]\n",
      "[[0, 2, 3], [0, 2, 3], [0, 2, 3]]\n"
     ]
    }
   ],
   "source": [
    "a[0] = 0\n",
    "print(b)\n",
    "print(c)"
   ]
  },
  {
   "cell_type": "markdown",
   "id": "8fb1ef60",
   "metadata": {},
   "source": [
    "b는 a의 int type을 반복한다. 반면 c는 a의 list type을 반복한다.  \n",
    "list는 mutable하기 때문에 새로운 객체가 만들어지는 것이 아닌, 기존 객체에서 값이 추가/제거된다.  \n",
    "그렇기에 c는 a와 동일한 값을 pointing하고 기존 a의 값이 변해도 똑같은 값을 pointing한다.  "
   ]
  },
  {
   "cell_type": "markdown",
   "id": "7abd3327",
   "metadata": {},
   "source": [
    "4. 다음 문자열을 ':'을 기준으로 분리하여 리스트로 만들고 각 문자열의 좌우 공백을 제거하시오 (즉, 문자열 S에서 l을 만들어라)  \n",
    "s = '  first star   :   second star   :    third star  '  \n",
    "l = ['first star', 'second star', 'third star']  \n",
    "1) for ~ in 문을 이용한 코드를 작성하시오.  \n",
    "2) 리스트 내포(list comprehension)를 이용한 코드를 작성하시오."
   ]
  },
  {
   "cell_type": "code",
   "execution_count": 28,
   "id": "0f7ecb2a",
   "metadata": {},
   "outputs": [
    {
     "name": "stdout",
     "output_type": "stream",
     "text": [
      "[' first star ', ' second star ', ' third star ']\n",
      "['first star', 'second star', 'third star']\n"
     ]
    }
   ],
   "source": [
    "s = ' first star : second star : third star '\n",
    "l = s.split(\":\")\n",
    "print(l)\n",
    "\n",
    "l = [l[i].strip(\" \") for i in range(len(l))]\n",
    "print(l)"
   ]
  },
  {
   "cell_type": "markdown",
   "id": "cf883c09",
   "metadata": {},
   "source": [
    "split() 함수를 이용해 문자열을 ':' 기준으로 분리하여 리스트로 만들었다.  \n",
    "리스트 각 요소에는 문자열이 저장돼 있기에 l[i].strip(\" \")으로 각 문자열에 접근해 좌우 공백을 제거 할 수 있다.  \n",
    "strip() 함수는 좌우 공백을 제거하는 문자열 함수이다."
   ]
  },
  {
   "cell_type": "markdown",
   "id": "87f421a4",
   "metadata": {},
   "source": [
    "5. 다음과 같이 0보다 큰 정수 리스트 변수 list를 인자로 받는 함수 addall(list)와 addallodd(list)를 for ~ in 리터널과 리스트 내포 방식으로 각각 제시하시오.\n",
    " - 1) addall(list) 함수 (리스트 내의 모든 정수를 더하는 함수로서 해답으로는 for ~ in 리터럴과 리스트 내포 방식으로 각각 제시하시오.)\n",
    "           >>>  addall([1])  \n",
    "               1  \n",
    "           >>> addall([1, 2, 3, 4, 5, 6, 7, 8, 9])  \n",
    "               45\n",
    " - 2) addallodd(list) 함수 (리스트내의 모든 홀수를 더하는 함수로서 해답으로는 for ~ in 리터럴과 리스트 내포 방식으로 각각 제시하시오.)\n",
    "            >>> addallodd([1])\n",
    "                1\n",
    "            >>> addallodd([1, 2, 3, 4, 5, 6, 7, 8, 9])\n",
    "                25\n",
    "- [참고 1]: 리스트 내포 방식으로 addall() 및 addallodd()함수를 만들 때엔 리스트 내포에 의해 생성된 리스트 결과에 대해 내장 함수를 사용하는 방식을 고려해보시오 (주의: 리스트 내포 방식의 addall() 및 addallodd() 함수의 몸체는 단 1줄로 작성되어야 한다.)  \n",
    "- [참고 2]: sum() 등의 내장함수 사용 가능함"
   ]
  },
  {
   "cell_type": "code",
   "execution_count": 1,
   "id": "ba736b4b",
   "metadata": {},
   "outputs": [],
   "source": [
    "def addall(list):# for ~ in\n",
    "    sum = 0\n",
    "    for i in range(len(list)):\n",
    "        sum += list[i]\n",
    "\n",
    "    return print(\"addall : for ~ in -> \", sum)"
   ]
  },
  {
   "cell_type": "code",
   "execution_count": 2,
   "id": "81bf968e",
   "metadata": {},
   "outputs": [],
   "source": [
    "def addallodd(list):# for ~ in\n",
    "    sum = 0\n",
    "    for i in range(len(list)):\n",
    "        if list[i] % 2 != 0:\n",
    "            sum += list[i]\n",
    "\n",
    "    return print(\"addallodd : for ~ in -> \", sum)"
   ]
  },
  {
   "cell_type": "code",
   "execution_count": 3,
   "id": "1bab269e",
   "metadata": {},
   "outputs": [
    {
     "name": "stdout",
     "output_type": "stream",
     "text": [
      "addall : for ~ in ->  45\n",
      "addallodd : for ~ in ->  25\n"
     ]
    }
   ],
   "source": [
    "list = [1, 2, 3, 4, 5, 6, 7, 8, 9]\n",
    "addall(list)\n",
    "addallodd(list)"
   ]
  },
  {
   "cell_type": "code",
   "execution_count": 4,
   "id": "b767805e",
   "metadata": {},
   "outputs": [],
   "source": [
    "def addall(list):#리스트 내포 방식\n",
    "    l = [list[i] for i in range(len(list))]\n",
    "\n",
    "    return print(\"addall : list comprehension -> \", sum(l))"
   ]
  },
  {
   "cell_type": "code",
   "execution_count": 5,
   "id": "b2eb5544",
   "metadata": {},
   "outputs": [],
   "source": [
    "def addallodd(list):#리스트 내포 방식\n",
    "    l = [list[i] for i in range(len(list)) if list[i] % 2 != 0]  \n",
    "        \n",
    "    return print(\"addallodd : list comprehension -> \", sum(l))"
   ]
  },
  {
   "cell_type": "code",
   "execution_count": 6,
   "id": "46ff07cb",
   "metadata": {},
   "outputs": [
    {
     "name": "stdout",
     "output_type": "stream",
     "text": [
      "addall : list comprehension ->  45\n",
      "addallodd : list comprehension ->  25\n"
     ]
    }
   ],
   "source": [
    "list = [1, 2, 3, 4, 5, 6, 7, 8, 9]\n",
    "addall(list)\n",
    "addallodd(list)"
   ]
  },
  {
   "cell_type": "markdown",
   "id": "68e19e23",
   "metadata": {},
   "source": [
    "for ~ in은 sum변수를 생성해 반복문을 돌리며 요소를 더해간다.  \n",
    "list 내포는 변수 ㅣ에 list[i]의 요소를 담아 list 형태로 출력한다. 이때 list ㅣ를 sum() 함수를 통해 더하였다.  \n",
    "홀수는 2로 나누었을 때 나머지가 1이 되는 수이다. 마찬가지로 for ~ in은 sum변수를 생성해 반복문을 돌리며 요소를 더해간다.  \n",
    "list 내포는 if list[i] % 2 != 0 조건을 주어 list[i]를 출력한다. 이때 list ㅣ를 sum() 함수를 통해 더하였다. "
   ]
  },
  {
   "cell_type": "markdown",
   "id": "92cdab00",
   "metadata": {},
   "source": [
    "6. 다음 코드를 보고 물음에 답하시오.\n",
    "\n",
    "        L1 = [1, 2, 3]  \n",
    "        L2 = [4, 5, 6]  \n",
    "        d = {'low':L1, 'high':L2}  \n",
    "        e = d  \n",
    "        f = d.copy()\n",
    "        print(d)  \n",
    "        print(e)  \n",
    "        print(f)  \n",
    "        print()  \n",
    "        d['low'] = [10, 20, 30]  \n",
    "        d['high'][1] = 500  \n",
    "        print(d)  \n",
    "        print(e)  \n",
    "        print(f)  \n",
    "      1) 위 코드의 수행 결과 d와 e는 항상 같은 결과를 출력한다. 그 이유는 무엇인가?  \n",
    "      2) 위 코드의 수행 결과 마지막 f의 내용은 다음과 같다. 이 때 'high' 키의 값 내용 중 500이 출력된 이유와 'low' 키의 값 내용 중 [1, 2, 3]이 출력된 이유를 설명하시오 ([hint]: shallow copy 관점에서 설명하시오.)  \n",
    "            {'high': [4, 500, 6], 'low': [1, 2, 3]}"
   ]
  },
  {
   "cell_type": "code",
   "execution_count": 9,
   "id": "63156d11",
   "metadata": {},
   "outputs": [
    {
     "name": "stdout",
     "output_type": "stream",
     "text": [
      "{'low': [1, 2, 3], 'high': [4, 5, 6]}\n",
      "{'low': [1, 2, 3], 'high': [4, 5, 6]}\n",
      "{'low': [1, 2, 3], 'high': [4, 5, 6]}\n",
      "\n",
      "{'low': [10, 20, 30], 'high': [4, 500, 6]}\n",
      "{'low': [10, 20, 30], 'high': [4, 500, 6]}\n",
      "{'low': [1, 2, 3], 'high': [4, 500, 6]}\n"
     ]
    }
   ],
   "source": [
    "L1 = [1, 2, 3]  \n",
    "L2 = [4, 5, 6]  \n",
    "d = {'low':L1, 'high':L2}  #dic\n",
    "e = d  \n",
    "f = d.copy() \n",
    "print(d)  \n",
    "print(e)  \n",
    "print(f)  \n",
    "print()  \n",
    "d['low'] = [10, 20, 30]  #d의 low(keys)에 [10, 20, 30](values) 대입\n",
    "d['high'][1] = 500  #high(keys)의 [1]에 500(values) 대입\n",
    "print(d)  \n",
    "print(e)  \n",
    "print(f)  "
   ]
  },
  {
   "cell_type": "markdown",
   "id": "62530d82",
   "metadata": {},
   "source": [
    "d가 가리키고 있는 곳과 e, f가 가리키는 곳(참조하는 곳)이 같기 때문에 같은 값을 출력한다.  \n",
    "d, f는 모두 얕은 복사를 한다. 모두 list전체를 복사하는 것이 아닌 각각의 객체만을 복사한다. 차이점은 '=' 으로 복사하면 같은 메모리를 공유하기 때문에 하나의 값이 바뀌면 다른 변수의 값도 바뀐다. 반면 .copy()를 하면 메모리 주소가 다른 곳에 복사되기 때문에 list 전체값이 바뀐 'low'는 변하지 않는다. 'high' L2의 [1]번째는 객체가 바뀐 것이기에 값이 변하여 출력된다."
   ]
  },
  {
   "cell_type": "markdown",
   "id": "e1692ba4",
   "metadata": {},
   "source": [
    "7. 사전 d = {'one':1, 'two':2, 'three':3, 'four':4, 'five':5}가 주어졌을 때 다음 요구사항에 맞는 코드를 제시하시오  \n",
    "[참고]: d.keys(), d.values()를 통해 리스트를 얻어낸 후 리스트가 지니고 있는 sort(cmp=None, key=None, reverse=False)함수를 활용하시오.  \n",
    "    1) 키의 알파벳 오름차순 순서대로 튜플 (키, 값)을 차례대로 출력하시오.  \n",
    "    2) 키의 알파벳 내림차순 순서대로 튜플 (키, 값)을 차례대로 출력하시오.  \n",
    "    3) 값의 오름차순 순서대로 튜플 (키, 값)을 차례대로 출력하시오.  \n",
    "    4) 값의 내림차순 순서대로 튜플 (키, 값)을 차례대로 출력하시오."
   ]
  },
  {
   "cell_type": "code",
   "execution_count": 25,
   "id": "25525353",
   "metadata": {},
   "outputs": [
    {
     "name": "stdout",
     "output_type": "stream",
     "text": [
      "[('five', 5), ('four', 4), ('one', 1), ('three', 3), ('two', 2)]\n",
      "[('two', 2), ('three', 3), ('one', 1), ('four', 4), ('five', 5)]\n",
      "[('one', 1), ('two', 2), ('three', 3), ('four', 4), ('five', 5)]\n",
      "[('five', 5), ('four', 4), ('three', 3), ('two', 2), ('one', 1)]\n"
     ]
    }
   ],
   "source": [
    "d = {'one':1, 'two':2, 'three':3, 'four':4, 'five':5}\n",
    "\n",
    "#1) 키의 알파벳 오름차순 순서대로 튜플 (키, 값)을 차례대로 출력하시오.\n",
    "print(sorted(d.items()))\n",
    "#2) 키의 알파벳 내림차순 순서대로 튜플 (키, 값)을 차례대로 출력하시오.\n",
    "print(sorted(d.items(), reverse=True))\n",
    "#3) 값의 오름차순 순서대로 튜플 (키, 값)을 차례대로 출력하시오.\n",
    "print(sorted(d.items(), key = lambda x:x[1]))\n",
    "#4) 값의 내림차순 순서대로 튜플 (키, 값)을 차례대로 출력하시오.\n",
    "print(sorted(d.items(), key = lambda x:x[1], reverse=True))"
   ]
  },
  {
   "cell_type": "markdown",
   "id": "e295fbff",
   "metadata": {},
   "source": [
    "dictionary를 sorted하면 기본적으로 키의 오름차순으로 출력된다.  \n",
    "키를 내림차순하려면 sorted값에 reverse=True를 넣는다.  \n",
    "값을 기준으로 순서를 변경할 때는 key = lambda 함수를 사용한다. 입력 x의 x[1]은 dictionary의 values 값이다.  \n",
    "내림차순은 reverse=True하면된다."
   ]
  },
  {
   "cell_type": "markdown",
   "id": "925f9347",
   "metadata": {},
   "source": [
    "8. 다음 문제를 정확히 읽고 적합한 코딩을 제시하시오.  \n",
    "length(X)를 다음과 같이 정의한다 : 10진수로 표현된 X의 자릿수  \n",
    "Strange라는 숫자를 아래과 같이 정의한다.  \n",
    "음이 아닌 정수 중 자릿수가 1인 모든 숫자는 Strange이다.  \n",
    "length(X) > 1 인 숫자 X 는 다음 2가지를 만족하면 Strange이다.  \n",
    "X는 length(X)로 정확히 나누어 떨어진다.  \n",
    "X / length(X) 가 strnage이다. \n",
    "\n",
    "    이 문제에서 숫자 하나가 주어질 때, 이 숫자가 Strange인지 판단하는 함수 isStrange(num)을 작성하시오.  \n",
    "    isStrange(num) 함수가 재귀적인 함수가 되도록 작성해 보세요."
   ]
  },
  {
   "cell_type": "code",
   "execution_count": 27,
   "id": "1648509f",
   "metadata": {},
   "outputs": [],
   "source": [
    "def length(num):#자릿수 구하는 함수\n",
    "    count = 0\n",
    "    while True:\n",
    "        num = num // 10\n",
    "        count += 1\n",
    "        if num == 0:\n",
    "            break\n",
    "    return count\n",
    "\n",
    "def isStrange(num):#Strange 판단\n",
    "    if num < 10:\n",
    "        return True\n",
    "\n",
    "    leng = length(num)\n",
    "    if num < 0:\n",
    "        return False\n",
    "\n",
    "    if num % leng != 0:\n",
    "        return False\n",
    "\n",
    "    temp = num / leng\n",
    "    if isStrange(temp) == False:\n",
    "        return False\n",
    "    return True                                                                                                                        "
   ]
  },
  {
   "cell_type": "code",
   "execution_count": 30,
   "id": "5e17f9f6",
   "metadata": {},
   "outputs": [
    {
     "name": "stdout",
     "output_type": "stream",
     "text": [
      "num: 0\n",
      "num =  0  ->  True\n",
      "num: 56\n",
      "num =  56  ->  True\n",
      "num: 100\n",
      "num =  100  ->  False\n",
      "num: 7882602506492313600\n",
      "num =  7882602506492313600  ->  True\n",
      "num: 6012302549522098651\n",
      "num =  6012302549522098651  ->  False\n",
      "num: -1\n"
     ]
    }
   ],
   "source": [
    "while True:\n",
    "    num = int(input(\"num: \"))\n",
    "    if num == -1:\n",
    "        break\n",
    "    print(\"num = \", num,\" -> \", isStrange(num))"
   ]
  },
  {
   "cell_type": "markdown",
   "id": "ce761739",
   "metadata": {},
   "source": [
    "우선 num이 10보다 작은 경우 True를 반환한다. num이 0보다 작으면 False를 반환한다.  \n",
    "num의 자릿수를 구하는 방법은 num을 10으로 나눴을 때 몫이 0이 될 때까지 count한는 것이다.  \n",
    "그렇게 구한 leng을 num과 나누었을 때 나누어 떨어지지 않으면 False를 반환한다.  \n",
    "재귀 함수는 num을 leng으로 나눈 값을 계속 isStrange함수에 넘겨주면 된다."
   ]
  },
  {
   "cell_type": "markdown",
   "id": "99f80e38",
   "metadata": {},
   "source": [
    "9. 다음 문제를 정확히 읽고 적합한 코딩을 제시하시오.\n",
    "\n",
    "1번 그룹, 2번 그룹, ... n번 그룹으로 번호가 매겨진 총 n개의 그룹이 존재하고, ith 그룹에는 임의의 팀원 수 ai 명이 있다.\n",
    "하나의 버스 정류장이 있고, 버스는 오직 한 대만 운영한다. 버스는 버스 정류장에 도착하고 모든 그룹은 버스를 통해 여행하길 원한다.\n",
    "하지만, 같은 그룹에 속한 팀원들은 분리되기를 원치 않는다. 그래서 그룹의 모든 팀원이 탈 수 있을 때 에만 그 그룹은 버스에 탑승한다.\n",
    "또한, 이들은 그룹의 번호순으로 여행을 하길 원한다. 예를 들어, 3번 그룹은 1번 그룹과 2번 그룹이 여행을 한 뒤에 버스를 탈 수 있거나, 1번 그룹과 2번 그룹이 이미 버스에 탑승한 상태에 있을 때 동시에 버스를 탈 수 있다.\n",
    "마지막으로, 버스는 빈 좌석이 없을 때 에만 여행을 떠난다.\n",
    "\n",
    "이 문제에서 각 그룹의 팀원 수가 리스트로 주어질 때, 가능한 모든 버스의 사이즈 x(x명의 사람들이 동시에 탈 수 있음)를 반환하는 함수 solve(a) 를 작성하시오.\n",
    "[주의] 반드시 계산 복잡도를 최대한 낮추세요. 아래 예시 3번을 실행했을 때 결과가 바로 나타날 수 있도록!!"
   ]
  },
  {
   "cell_type": "code",
   "execution_count": 39,
   "id": "fa3f3674",
   "metadata": {},
   "outputs": [],
   "source": [
    "def solve(a):\n",
    "    num = sum(a)\n",
    "    highest = max(a)\n",
    "    out = []\n",
    "    temp = 0; store = 0\n",
    "    divisor = []\n",
    "    for i in range(1, int(num**(1/2)) + 1):#약수 정리\n",
    "        if num % i == 0:\n",
    "            if i >= highest:\n",
    "                divisor.append(i) \n",
    "                if (i**2) != num: \n",
    "                    divisor.append(num // i)\n",
    "            else:\n",
    "                divisor.append(num // i)\n",
    "    divisor.sort()\n",
    "\n",
    "    for div in divisor:#약수가 정리된 것에서 인원을 충족하는 약수를 선택\n",
    "        temp = 0; store =0\n",
    "        for i in range(temp, len(a)):\n",
    "            store += a[i]\n",
    "            if store == div:\n",
    "                if i == len(a) - 1:#temp is lst node\n",
    "                    out.append(store)#out append            \n",
    "                store = 0\n",
    "                temp = i + 1\n",
    "\n",
    "    return out"
   ]
  },
  {
   "cell_type": "code",
   "execution_count": 43,
   "id": "d8aefe08",
   "metadata": {},
   "outputs": [
    {
     "name": "stdout",
     "output_type": "stream",
     "text": [
      " ->  [3, 4, 6, 12]\n",
      " ->  [1, 2, 4]\n",
      " ->  [9999, 19998, 39996, 49995, 79992, 99990, 159984, 199980, 249975, 319968, 399960, 499950, 799920, 999900, 1249875, 1599840, 1999800, 2499750, 3999600, 4999500, 6249375, 7999200, 9999000, 12498750, 19998000, 24997500, 31246875, 39996000, 49995000, 62493750, 99990000, 124987500, 199980000, 249975000, 499950000, 999900000]\n"
     ]
    }
   ],
   "source": [
    "a = [[1, 2, 1, 1, 1, 2, 1, 3],[1, 1, 1, 1],[9999] * 10**5]\n",
    "for i in range(len(a)):\n",
    "    out = solve(a[i])\n",
    "    print(\" -> \", out)"
   ]
  },
  {
   "cell_type": "markdown",
   "id": "3bfe38b0",
   "metadata": {},
   "source": [
    "1) 우선 list안에 있는 모든 인원을 더한 값의 약수를 찾고 2) 약수 중 list 안의 인원을 남김없이 포함할 수 있는 약수를 선택한다.  \n",
    "계산 복잡도를 낮추기 위해 모든 수를 탐색하는 것이 아닌 n**(1/2)까지만 탐색하였다. 예로 12의 약수 중 1, 2, 3을 찾으면 자연스럽게 12, 6, 4도 찾을 수 있다. 나머지 원소를 찾는 것은 먼저 i를 append(i)하고 num에서 i를 나눈 값도 append(num//i)한다.  \n",
    "모든 약수를 찾았다면 list a의 개수만큼 a[i]를 반복하여 원소들의 합으로 약수가 나누어 떨어지는지 확인한다.  \n",
    "[1, 2, 1, 1, 1, 2, 1, 3]에서 1과 2를 더해서 약수 3이 나오고 1, 1, 1 = 3, 2 + 1 = 3, 3 즉, 원소가 남김없이 합이 3이 된다.  \n",
    "a[i]를 i += 1하여 더한다. 만약 더한 a[i]값이 약수와 같다면, 또, i가 마지막 index라면 out.append(store)한다.  "
   ]
  },
  {
   "cell_type": "markdown",
   "id": "ae262e06",
   "metadata": {},
   "source": [
    "##  Incremental2"
   ]
  },
  {
   "cell_type": "code",
   "execution_count": 64,
   "id": "a6ed2549",
   "metadata": {},
   "outputs": [],
   "source": [
    "import requests\n",
    "\n",
    "req = requests.get('https://together.kakao.com/')\n",
    "source = req.text"
   ]
  },
  {
   "cell_type": "code",
   "execution_count": 65,
   "id": "b81a4796",
   "metadata": {},
   "outputs": [],
   "source": [
    "for i in range(len(source)):\n",
    "    if source.find('\\n') >= 0:\n",
    "        none_line = source.replace(source[source.find('\\n')], '')"
   ]
  },
  {
   "cell_type": "code",
   "execution_count": 66,
   "id": "1207245c",
   "metadata": {},
   "outputs": [],
   "source": [
    "def organize(none_line, length):#문자열 none_line\n",
    "    index = 0\n",
    "    while True:#문자열 첫 인덱스부터 check\n",
    "        if none_line[index] in '</':#값이 </로 시작하면 \n",
    "            closing_index = meet_closing(none_line, index, length)\n",
    "            text = none_line[index:closing_index + 1]\n",
    "            if text == \"</head>\" or text == \"</div>\" or text == \"</script>\" or text == \"<script>\":\n",
    "                closing_index = meet_same(none_line, closing_index, length)\n",
    "                none_line = none_line.replace(none_line[index:closing_index + 1], \"\")\n",
    "            else:\n",
    "                none_line = none_line.replace(none_line[index:closing_index + 1], \"\")#</부터 >인덱스까지 문자열 제거\n",
    "            length = length - (closing_index - index + 1)#전체 길이 다시 초기화\n",
    "\n",
    "        else:#값이 </로 시작하지 않으면 \n",
    "            index += 1#계속 문자열 탐색\n",
    "        \n",
    "        if errorlength(none_line, index) == True:#while 문 break\n",
    "            break\n",
    "              \n",
    "    return none_line#문자열 return\n",
    "\n",
    "def meet_same(none_line, closing_index, length):#<script><script> 같은 문자열 나오면 그 사이 인덱스 삭제\n",
    "    for i in range(closing_index + 1, length):\n",
    "        if none_line[i] in '<':\n",
    "            reclosing_index = meet_closing(none_line, i, length)\n",
    "            text = none_line[i : reclosing_index + 1]\n",
    "            if text == \"</div>\" or text == \"</html>\":\n",
    "                return reclosing_index\n",
    "\n",
    "def meet_closing(none_line, index, length):#클로징 문자열 > 인덱스 찾기\n",
    "    for i in range(index , length):\n",
    "        if none_line[i] in '>':\n",
    "            return i\n",
    "\n",
    "def errorlength(none_line, index):#while문 제어\n",
    "    return len(none_line) == index\n"
   ]
  },
  {
   "cell_type": "code",
   "execution_count": 67,
   "id": "22f9faf7",
   "metadata": {},
   "outputs": [],
   "source": [
    "length = len(source)\n",
    "text_line = organize(source, length) #organize() 호출\n",
    "text_line = text_line.split()   \n",
    "\n",
    "for text in text_line:\n",
    "    if text == \"=\":\n",
    "        pos = text_line.index(text)\n",
    "        del text_line[pos -1 : pos + 2]"
   ]
  },
  {
   "cell_type": "code",
   "execution_count": 68,
   "id": "a374f539",
   "metadata": {},
   "outputs": [
    {
     "name": "stdout",
     "output_type": "stream",
     "text": [
      "{'카카오같이가치': 1}\n"
     ]
    }
   ],
   "source": [
    "def punctuation_character(text_line):#구두 문자 삭제\n",
    "    text_line = ' '.join(text_line)\n",
    "    for text in text_line: \n",
    "        ot = ord(text)\n",
    "        if (ot > 32 and ot < 48) or (ot > 57 and ot < 65) or ( ot > 90 and ot < 97) or (ot > 122 and ot < 128):#구두문자\n",
    "            text_line = text_line.replace(text, \"\")\n",
    "    text_line = text_line.split() \n",
    "    return text_line\n",
    "\n",
    "text_line = punctuation_character(text_line)#punctuation_character() 호출\n",
    "\n",
    "def frequency(text_line):#빈도수 출력\n",
    "    dic_count = {}\n",
    "    for text in text_line:\n",
    "        if text in dic_count:\n",
    "            dic_count[text] += 1\n",
    "        else:\n",
    "            dic_count[text] = 1\n",
    "    return dic_count\n",
    "\n",
    "dic_count= frequency(text_line)# frequency() 호출\n",
    "print(dic_count)"
   ]
  },
  {
   "attachments": {
    "image.png": {
     "image/png": "[encoded data removed]"
    }
   },
   "cell_type": "markdown",
   "id": "16177a09",
   "metadata": {},
   "source": [
    "url : https://terms.naver.com/entry.naver?docId=834254&cid=50376&categoryId=50376\n",
    "![image.png](attachment:image.png)"
   ]
  },
  {
   "attachments": {
    "image.png": {
     "image/png": "[encoded data removed]"
    }
   },
   "cell_type": "markdown",
   "id": "42f0507d",
   "metadata": {},
   "source": [
    "url : https://shoppinghow.kakao.com/top\n",
    "![image.png](attachment:image.png)"
   ]
  },
  {
   "attachments": {
    "image.png": {
     "image/png": "[encoded data removed]"
    }
   },
   "cell_type": "markdown",
   "id": "04c6957e",
   "metadata": {},
   "source": [
    "url : https://www.python.org/\n",
    "![image.png](attachment:image.png)"
   ]
  },
  {
   "attachments": {
    "image.png": {
     "image/png": "[encoded data removed]"
    }
   },
   "cell_type": "markdown",
   "id": "b079e7dd",
   "metadata": {},
   "source": [
    "url : https://mail.naver.com/\n",
    "![image.png](attachment:image.png)"
   ]
  },
  {
   "attachments": {
    "image-2.png": {
     "image/png": "[encoded data removed]"
    }
   },
   "cell_type": "markdown",
   "id": "07119803",
   "metadata": {},
   "source": [
    "url : https://together.kakao.com/\n",
    "![image-2.png](attachment:image-2.png)"
   ]
  },
  {
   "cell_type": "markdown",
   "id": "3769380f",
   "metadata": {},
   "source": [
    "구두 문자 삭제 시 아스키코드를 사용했다. 아스키코드에서 숫자와 알파벳을 제외한 나머지를 지웠다.  \n",
    "빈도수 출력은 빈 사전 dic_count를 생성해 keys와 values 수를 출력했다.  \n",
    "def organize()함수에서는 CSS와 Javascript의 body를 삭제하는 함수를 추가하였다.  \n",
    "문자열 Slicing을 사용해 해당 <> 괄호 안의 문자열이 조건에 맞는 Slicing 문자열을 만나면 그 사이 모든 문자열을 지운다.  \n",
    "def meet_same()함수는 조건에 맞는 Slicing문자열을 만났을 때의 reclosing_index를 반환한다. "
   ]
  },
  {
   "cell_type": "markdown",
   "id": "2db61423",
   "metadata": {},
   "source": [
    "## 느낀점\n",
    "\n",
    "한 문제마다 오랜 시간이 걸리고 해결하는데 많은 어려움이 있지만 끝까지 포기하지 않고 해내서 정말 기쁘다. 아직 함수와 변수 정리가 안되어 코드가 중첩되고 보기 혼잡하여 이 부분을 신경써서 고쳐 나가야겠다."
   ]
  }
 ],
 "metadata": {
  "kernelspec": {
   "display_name": "Python 3",
   "language": "python",
   "name": "python3"
  },
  "language_info": {
   "codemirror_mode": {
    "name": "ipython",
    "version": 3
   },
   "file_extension": ".py",
   "mimetype": "text/x-python",
   "name": "python",
   "nbconvert_exporter": "python",
   "pygments_lexer": "ipython3",
   "version": "3.8.8"
  },
  "toc": {
   "base_numbering": 1,
   "nav_menu": {},
   "number_sections": false,
   "sideBar": true,
   "skip_h1_title": false,
   "title_cell": "Table of Contents",
   "title_sidebar": "Contents",
   "toc_cell": false,
   "toc_position": {},
   "toc_section_display": true,
   "toc_window_display": true
  },
  "varInspector": {
   "cols": {
    "lenName": 16,
    "lenType": 16,
    "lenVar": 40
   },
   "kernels_config": {
    "python": {
     "delete_cmd_postfix": "",
     "delete_cmd_prefix": "del ",
     "library": "var_list.py",
     "varRefreshCmd": "print(var_dic_list())"
    },
    "r": {
     "delete_cmd_postfix": ") ",
     "delete_cmd_prefix": "rm(",
     "library": "var_list.r",
     "varRefreshCmd": "cat(var_dic_list()) "
    }
   },
   "types_to_exclude": [
    "module",
    "function",
    "builtin_function_or_method",
    "instance",
    "_Feature"
   ],
   "window_display": false
  }
 },
 "nbformat": 4,
 "nbformat_minor": 5
}
