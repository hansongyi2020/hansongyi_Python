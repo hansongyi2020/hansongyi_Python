{
 "cells": [
  {
   "cell_type": "markdown",
   "id": "33d612e4",
   "metadata": {},
   "source": [
    "# Homework2_스크립트프로그래밍\n",
    "## 컴퓨터공학부_2020136135_한송이¶"
   ]
  },
  {
   "cell_type": "markdown",
   "id": "eb766e21",
   "metadata": {},
   "source": [
    "### [일반 문제]¶"
   ]
  },
  {
   "cell_type": "markdown",
   "id": "9c52166e",
   "metadata": {},
   "source": [
    "1. 다음 6 개의 Expression에 대해 Evaluation 결과 값을 출력하고, 해당 결과가 나온 이유에 대해 설명하시오\n",
    "    - 1 and 2 and 3 and 4\n",
    "    - 1 or 2 or 3 or 4\n",
    "    - 1 and 2 or 3 and 4\n",
    "    - (1 and 2) or (3 and 4)\n",
    "    - 1 or 2 and 3 or 4\n",
    "    - (1 or 2) and (3 or 4)"
   ]
  },
  {
   "cell_type": "code",
   "execution_count": 1,
   "id": "ce6af4f0",
   "metadata": {},
   "outputs": [
    {
     "name": "stdout",
     "output_type": "stream",
     "text": [
      "4\n"
     ]
    }
   ],
   "source": [
    "print(1 and 2 and 3 and 4)"
   ]
  },
  {
   "cell_type": "markdown",
   "id": "1dc2644b",
   "metadata": {},
   "source": [
    "숫자는 <0 == 거짓, 0 이외 == 참>이기 때문에 1, 2, 3, 4 모두 참이 된다.  \n",
    "and는 앞이 True면 뒤를 출력한다. 만약 앞이 False면 뒤를 확인하지 않고 바로 앞을 출력한다.  \n",
    "1, 2, ,3 ,4는 모두 참이기 때문에 마지막 4가 출력된다."
   ]
  },
  {
   "cell_type": "code",
   "execution_count": 5,
   "id": "75ae2fb7",
   "metadata": {},
   "outputs": [
    {
     "name": "stdout",
     "output_type": "stream",
     "text": [
      "1\n"
     ]
    }
   ],
   "source": [
    "print(1 or 2 or 3 or 4)"
   ]
  },
  {
   "cell_type": "markdown",
   "id": "417e21ed",
   "metadata": {},
   "source": [
    "숫자는 <0 == 거짓, 0 이외 == 참>이기 때문에 1, 2, 3, 4 모두 참이 된다.  \n",
    "or는 앞이 False면 뒤를 출력한다. 만약 앞이 True면 뒤를 확인하지 않고 바로 앞을 출력한다.  \n",
    "1은 참이기 때문에 뒤를 확인하지 않고 바로 1을 출력한다."
   ]
  },
  {
   "cell_type": "code",
   "execution_count": 7,
   "id": "cfe8da78",
   "metadata": {},
   "outputs": [
    {
     "name": "stdout",
     "output_type": "stream",
     "text": [
      "2\n"
     ]
    }
   ],
   "source": [
    "print(1 and 2 or 3 and 4)"
   ]
  },
  {
   "cell_type": "markdown",
   "id": "e2512d4b",
   "metadata": {},
   "source": [
    "and와 or 연산자 중 and가 우선순위를 가진다. 따라서 (1 and 2) or (3 and 4)와 같은 계산을 수행한다.  \n",
    "(1 and 2)는 1, 2 모두 참이므로 2가 출력된다.  \n",
    "(3 and 4)는 3, 4 모두 참이므로 4가 출력된다.  \n",
    "(2 or 4)는 2, 4 모두 참이므로 2가 출력된다."
   ]
  },
  {
   "cell_type": "code",
   "execution_count": 8,
   "id": "aea79be3",
   "metadata": {},
   "outputs": [
    {
     "name": "stdout",
     "output_type": "stream",
     "text": [
      "2\n"
     ]
    }
   ],
   "source": [
    "print((1 and 2) or (3 and 4))"
   ]
  },
  {
   "cell_type": "markdown",
   "id": "45d3230e",
   "metadata": {},
   "source": [
    "위의 예제와 동일한 경우이다. 위의 경우는 괄호()를 사용하지 않아도 자동으로 연산됐지만 이 예제는 보기 쉽게 괄호를 표현하였다.  \n",
    "그렇기에 위와 같은 결과이 나온다."
   ]
  },
  {
   "cell_type": "code",
   "execution_count": 9,
   "id": "6c40a65c",
   "metadata": {},
   "outputs": [
    {
     "name": "stdout",
     "output_type": "stream",
     "text": [
      "1\n"
     ]
    }
   ],
   "source": [
    "print(1 or 2 and 3 or 4)"
   ]
  },
  {
   "cell_type": "markdown",
   "id": "8330a152",
   "metadata": {},
   "source": [
    "and와 or 중 and가 우선순위를 가지기에 1 or (2 and 3) or 4 와 같이 계산된다.  \n",
    "(2 and 3)는 2, 3 모두 참이기에 3이 출력된다.  \n",
    "1 or 3 or 4는 모두 참이기에 1이 출력된다."
   ]
  },
  {
   "cell_type": "code",
   "execution_count": 10,
   "id": "ffd13ca1",
   "metadata": {},
   "outputs": [
    {
     "name": "stdout",
     "output_type": "stream",
     "text": [
      "3\n"
     ]
    }
   ],
   "source": [
    "print((1 or 2) and (3 or 4))"
   ]
  },
  {
   "cell_type": "markdown",
   "id": "d0886f3e",
   "metadata": {},
   "source": [
    "괄호부터 계산한다.  \n",
    "(1 or 2)는 1, 2 모두 참이기에 1이 출력된다.  \n",
    "(3 or 4)는 3, 4 모두 참이기에 3이 출력된다.  \n",
    "(1 and 3)는 1, 3 모두 참이기에 3이 출력된다."
   ]
  },
  {
   "cell_type": "markdown",
   "id": "977015c5",
   "metadata": {},
   "source": []
  },
  {
   "cell_type": "markdown",
   "metadata": {},
   "source": []
  },
  {
   "cell_type": "markdown",
   "id": "8515168d",
   "metadata": {},
   "source": [
    "2. 경로에 해당하는 문자열 1개를 입력 받아 그 안에 디렉토리 경로명과 파일명을 분리하여 리스트로 반환하는 함수 div_path(s)를 작성하시오.\n",
    "    - 인자로 전달하는 문자열은 경로만 들어간다고 가정한다.\n",
    "    - 각 디렉토리와 파일을 구분하는 문자는 '/'로 가정한다.\n",
    "    - 반환하는 리스트의 첫번째 원소는 디렉토리이고 두번째 원소는 파일명이다.\n",
    "    - 다음과 같은 실행 및 출력 결과가 도출되어야 한다.\n",
    "        - div_path('/usr/local/bin/python')\n",
    "        - ['/usr/local/bin', 'python']\n",
    "        - div_path('/home/chulsoo/test.txt')\n",
    "        - ['/home/chulsoo', 'test.txt']\n",
    "        - [참고] 리스트(l) 내에 새로운 정수값 (예를 들어 10)을 넣는 방법은 l.append(10) 이다."
   ]
  },
  {
   "cell_type": "code",
   "execution_count": 12,
   "id": "057d101f",
   "metadata": {},
   "outputs": [
    {
     "name": "stdout",
     "output_type": "stream",
     "text": [
      "input path:/usr/local/bin/python\n"
     ]
    }
   ],
   "source": [
    "s = input(\"input path:\")#s = string"
   ]
  },
  {
   "cell_type": "code",
   "execution_count": 13,
   "id": "62dd4345",
   "metadata": {},
   "outputs": [
    {
     "name": "stdout",
     "output_type": "stream",
     "text": [
      "['/usr/local/bin', 'python']\n"
     ]
    }
   ],
   "source": [
    "def div_path(s):\n",
    "   index = s.rfind('/')#index = int\n",
    "   directory = s[ : index]\n",
    "   file_name = s[index + 1:]\n",
    "   div_D_F = [directory, file_name] \n",
    "\n",
    "   return div_D_F\n",
    "\n",
    "print(div_path(s))"
   ]
  },
  {
   "cell_type": "markdown",
   "id": "7f9102ee",
   "metadata": {},
   "source": [
    "우선 string 변수를 입력받는다.  \n",
    "오른쪽부터 문자열 '/'을 탐색한다.  \n",
    "찾은 index를 중심으로 Slicing 하여 directory와 file_name를 정의한 뒤 list로 반환한다.  "
   ]
  },
  {
   "cell_type": "markdown",
   "id": "81f0aa22",
   "metadata": {},
   "source": []
  },
  {
   "cell_type": "markdown",
   "metadata": {},
   "source": []
  },
  {
   "cell_type": "markdown",
   "id": "d3d244cc",
   "metadata": {},
   "source": [
    "3. 두 개의 리스트를 인자로 받아서 그 두 개의 리스트에 대한 '합집합'을 반환하는 함수 list_union(lista, listb)를 작성하시오.\n",
    "    - 집합 자료형 set은 사용하지 않는다.\n",
    "    - 인자로 전달하는 리스트 2 개에는 정수값만 들어간다고 가정하자.\n",
    "    - 함수 내에서 새로운 리스트를 만들어 그 리스트 내에 인자로 받은 두 리스트의 모든 원소를 넣어 반환한다.\n",
    "    - 반환하는 리스트에는 절대로 중복된 원소가 들어 있으면 안된다 (집합의 조건).\n",
    "    - 반환하는 리스트는 정렬이 되어 있어야 한다.\n",
    "    - 다음과 같은 실행 및 출력 결과가 도출되어야 한다.\n",
    "        - list_union([1, 2, 3], [1, 2, 4])\n",
    "        - [1, 2, 3, 4]\n",
    "        - list_union([-10, -5, 0, -1], [100, 9, 0, 9])\n",
    "        - [-10, -5, -1, 0, 9, 100]\n",
    "        - list_union([0, 1, 2], [0, 1, 2])\n",
    "        - [0, 1, 2]\n",
    "        - [참고] 리스트(l) 내에 새로운 정수값 (예를 들어 10)을 넣는 방법은 l.append(10) 이다.\n",
    "        - [참고] 임의의 정수값 (x)이 리스트 (l) 내에 존재하는지 판단하는 방법은 x in l 이다."
   ]
  },
  {
   "cell_type": "code",
   "execution_count": 6,
   "id": "0003efc9",
   "metadata": {},
   "outputs": [],
   "source": [
    "lista = [1, 2, 3, 7, 8, 9]\n",
    "listb = [1, 2, 4, 8]"
   ]
  },
  {
   "cell_type": "code",
   "execution_count": 7,
   "id": "09dd7aa4",
   "metadata": {},
   "outputs": [],
   "source": [
    "def list_union(lista, listb):\n",
    "    length = len(lista)#3\n",
    "    for i in range(length - 1 , -1, -1):#0 ~ 2\n",
    "        if lista[i] in listb:\n",
    "            lista.pop(i)\n",
    "   \n",
    "    union_listab = lista + listb\n",
    "    return union_listab"
   ]
  },
  {
   "cell_type": "code",
   "execution_count": 8,
   "id": "151fe344",
   "metadata": {},
   "outputs": [
    {
     "name": "stdout",
     "output_type": "stream",
     "text": [
      "[1, 2, 3, 4, 7, 8, 9]\n"
     ]
    }
   ],
   "source": [
    "list_sort = list_union(lista, listb)\n",
    "\n",
    "list_sort.sort()\n",
    "print(list_sort)"
   ]
  },
  {
   "cell_type": "markdown",
   "id": "e67e72c3",
   "metadata": {},
   "source": [
    "list는 앞에서부터 탐색하면 i 값이 증가하지 않는다. 따라서 순차 탐색 시 list의 마지막 요소부터 시작한다.  \n",
    "range(start, end, step)로 구성하며, 역순은 step을 -1로 놓아 i를 반복하면 된다. lista[i]는 int이고 listb는 list이다.  \n",
    "lista.pop(i)를 통해 lista의 i 번째 요소를 지운다.  \n",
    "마지막으로 반환된 union_listab를 sort() 함수를 통해 정렬한다."
   ]
  },
  {
   "cell_type": "markdown",
   "id": "a197f5f4",
   "metadata": {},
   "source": []
  },
  {
   "cell_type": "markdown",
   "metadata": {},
   "source": []
  },
  {
   "cell_type": "markdown",
   "id": "7db432bf",
   "metadata": {},
   "source": [
    "4. 두 개의 리스트를 인자로 받아서 그 두 개의 리스트에 대한 '교집합'을 반환하는 함수 list_intersection(lista, listb)와 '차집합'을 반환하는 함수 list_difference(lista, listb)를 작성하시오.\n",
    "    - 모든 가정과 조건은 3번 문제와 동일하다."
   ]
  },
  {
   "cell_type": "code",
   "execution_count": 9,
   "id": "ad3ef027",
   "metadata": {},
   "outputs": [],
   "source": [
    "lista = [1, 2, 3, 5, 6]\n",
    "listb = [1, 2, 3, 4]"
   ]
  },
  {
   "cell_type": "code",
   "execution_count": 12,
   "id": "314b8847",
   "metadata": {},
   "outputs": [],
   "source": [
    "def list_intersection(lista, listb):    \n",
    "    length = len(lista)\n",
    "    list_intersec12 = []\n",
    "    for i in range(length - 1 , -1, -1):#2 ~ 0\n",
    "        if lista[i] in listb:\n",
    "            list_intersec12.append(lista[i])\n",
    "        i -= 1\n",
    "\n",
    "    return list_intersec12"
   ]
  },
  {
   "cell_type": "code",
   "execution_count": 13,
   "id": "7c9fc872",
   "metadata": {},
   "outputs": [],
   "source": [
    "def list_difference(lista, listb, n):\n",
    "    if n == 1:\n",
    "        length = len(lista)\n",
    "        for i in range(length - 1 , -1, -1):#2 ~ 0\n",
    "            if lista[i] in listb:\n",
    "                lista.pop(i)\n",
    "            i = i = 1\n",
    "\n",
    "        return lista\n",
    "\n",
    "    else:\n",
    "        length = len(listb)\n",
    "        for i in range(length - 1 , -1, -1):#2 ~ 0\n",
    "            if listb[i] in lista:\n",
    "                listb.pop(i)\n",
    "            i = i - 1\n",
    "\n",
    "        return listb"
   ]
  },
  {
   "cell_type": "code",
   "execution_count": 14,
   "id": "e29103c5",
   "metadata": {},
   "outputs": [
    {
     "name": "stdout",
     "output_type": "stream",
     "text": [
      "intersection----> [1, 2, 3]\n",
      "difference-----> [5, 6]\n"
     ]
    }
   ],
   "source": [
    "list_sort_intersec = list_intersection(lista, listb)\n",
    "list_sort_intersec.sort()\n",
    "\n",
    "print(\"intersection---->\", list_sort_intersec)\n",
    "print(\"difference----->\", list_difference(lista, listb, 1))"
   ]
  },
  {
   "cell_type": "markdown",
   "id": "93d299eb",
   "metadata": {},
   "source": [
    "교집합은 서로 다른 list의 공통된 요소를 반환한다. 공통된 요소는 3번 문제와 동일하게 추출하였다.(pop())  \n",
    "list_intersection(lista, listb) 함수에 새로운 list를 만들어 공통된 요소를 append()하였다.  \n",
    "반환된 list_intersec12를 sort() 함수를 통해 정렬한다.  \n",
    "차집합은 서로 다른 list의 공통된 요소를 뺀 자기 자신의 요소를 반환한다. 공통된 요소는 3번 문제와 동일하게 추출하였다.(pop())  \n",
    "n을 통해 lista - listb과 listb - lista일 때를 구분했다. 차집합은 공통된 요소를 pop()하고 난 list를 가져오면 된다."
   ]
  },
  {
   "cell_type": "markdown",
   "id": "9dec14a1",
   "metadata": {},
   "source": []
  },
  {
   "cell_type": "markdown",
   "metadata": {},
   "source": []
  },
  {
   "cell_type": "markdown",
   "id": "67f2cbcc",
   "metadata": {},
   "source": [
    "5. 두 개의 양의 정수를 인자로 받아서 해당 범위안에 있는 소수(prime number)의 리스트를 출력하는 함수 print_primenumber(a, b)를 작성하시오.\n",
    "    - 이미 구현된 모듈이나 라이브러리는 사용하지 않는다.\n",
    "    - 함수의 반환(return)은 없으며 함수 내의 끝에서 .format()을 사용하여 다음과 같이 출력한다.\n",
    "        - print_primenumber(2, 10)\n",
    "            - 2 이상 10 이하 정수 중 소수 리스트: [2, 3, 5, 7]"
   ]
  },
  {
   "cell_type": "code",
   "execution_count": 11,
   "id": "042ba09f",
   "metadata": {},
   "outputs": [],
   "source": [
    "def print_primenumber(a, b):\n",
    "    lis = []\n",
    "    count = 0\n",
    "    for i in range(a, b + 1):\n",
    "        for num in range(1, i + 1):#1 ~ i\n",
    "            if i % num == 0:\n",
    "                count += 1\n",
    "            num += 1\n",
    "            if count > 2 :\n",
    "                exit() \n",
    "        if count == 2:\n",
    "            lis.append(i)\n",
    "        i += 1\n",
    "        count = 0\n",
    "            \n",
    "    print(\"{0} 이상 {1} 이하 정수 중 소수 리스트: {2}\".format(a, b, lis))"
   ]
  },
  {
   "cell_type": "code",
   "execution_count": 12,
   "id": "178452e0",
   "metadata": {},
   "outputs": [
    {
     "name": "stdout",
     "output_type": "stream",
     "text": [
      "2 이상 10 이하 정수 중 소수 리스트: [2, 3, 5, 7]\n"
     ]
    }
   ],
   "source": [
    "print_primenumber(2, 10)"
   ]
  },
  {
   "cell_type": "markdown",
   "id": "06a32e7d",
   "metadata": {},
   "source": [
    "소수를 판별하는 법은 어떤 수를 1부터 자기 자신까지 나눈 나머지의 개수가 2가 되는 것이다.  \n",
    "이때 소수로 판별된 수들을 append() 함수를 이용해 lis 라는 list 변수에 저장한다.  \n",
    "formating에서 format 순서를 적어준 뒤 여러 변수를 출력할 수 있다."
   ]
  },
  {
   "cell_type": "markdown",
   "id": "9e6f71ac",
   "metadata": {},
   "source": []
  },
  {
   "cell_type": "markdown",
   "metadata": {},
   "source": []
  },
  {
   "cell_type": "markdown",
   "id": "0082092f",
   "metadata": {},
   "source": [
    "### [Incremental Project 문제]  \n",
    "웹 URL로 지정된 웹페이지를 문자열로 가져와 1) 모든 HTML 태그를 제외한 순수 텍스트 문자열만을 걸러내고, 2) 그 순수 텍스트 문자열 안에 존재하는 단어가 총 몇개인지 출력하는 프로그램을 작성하시오.\n"
   ]
  },
  {
   "cell_type": "code",
   "execution_count": 15,
   "id": "019fc18e",
   "metadata": {},
   "outputs": [],
   "source": [
    "import requests\n",
    "req = requests.get('https://blog.naver.com/hhan1218')\n",
    "source = req.text\n",
    "#print(source)"
   ]
  },
  {
   "cell_type": "code",
   "execution_count": 16,
   "id": "ea86de7d",
   "metadata": {},
   "outputs": [],
   "source": [
    "for i in range(len(source)):\n",
    "    if source.find('\\n') >= 0:\n",
    "        none_line = source.replace(source[source.find('\\n')], '')\n",
    "#print(none_line)"
   ]
  },
  {
   "cell_type": "code",
   "execution_count": 17,
   "id": "56161ae5",
   "metadata": {},
   "outputs": [
    {
     "name": "stdout",
     "output_type": "stream",
     "text": [
      "song&#39;s_1 : 네이버 블로그var photoContent=\"\";var postContent=\"\";var videoId \t  = \"\";var thumbnail \t  = \"\";var inKey \t\t  = \"\";var movieFileSize = \"\";var playTime \t  = \"\";var screenSize \t  = \"\";var blogId = 'hhan1218';var blogURL = 'https:    html{width:100%;height:100%;}    body{width:100%;height:100%;margin:0;padding:0;font-size:0;}    #mainFrame{width:100%;height:100%;margin:0;padding:0;border:0;}    #hiddenFrame{width:0;height:0;margin:0;padding:0;border:0;}    \n"
     ]
    }
   ],
   "source": [
    "def organize(none_line, length):\n",
    "    index = 0\n",
    "    while True:\n",
    "        if none_line[index] in '</':\n",
    "            closing_index = meet_closing(none_line, index, length)\n",
    "            none_line = none_line.replace(none_line[index:closing_index + 1], \"\")\n",
    "            length = length - (closing_index - index + 1)\n",
    "\n",
    "        else:\n",
    "            index += 1\n",
    "        \n",
    "        if errorlength(none_line, index) == True:\n",
    "            break\n",
    "              \n",
    "    return none_line\n",
    "\n",
    "def meet_closing(none_line, index, length):\n",
    "    for i in range(index , length):\n",
    "        if none_line[i] in '>':\n",
    "            return i\n",
    "\n",
    "def errorlength(none_line, index):\n",
    "    return len(none_line) == index\n",
    "\n",
    "source = ''.join(source)\n",
    "length = len(none_line)\n",
    "text_line = organize(none_line, length)    \n",
    "print(text_line)"
   ]
  },
  {
   "cell_type": "code",
   "execution_count": 18,
   "id": "60b33119",
   "metadata": {},
   "outputs": [
    {
     "name": "stdout",
     "output_type": "stream",
     "text": [
      "count_none_line: \n",
      " 34\n"
     ]
    }
   ],
   "source": [
    "def count_none_line(text_line, length):\n",
    "    count_line = text_line.split()\n",
    "    result = len(count_line)\n",
    "\n",
    "    return result\n",
    "\n",
    "print(\"count_none_line: \\n\", count_none_line(text_line, length))"
   ]
  },
  {
   "cell_type": "markdown",
   "id": "4451b0f6",
   "metadata": {},
   "source": [
    "organize() : none_line '< >', '// >'문자열 삭제 함수  \n",
    "meet_closing() : closing_index == '>' 반환 함수  \n",
    "errorlength() : while() 조건 함수, len(none_line) == index 이면 while()을 탈출한다.  \n",
    "count_none_line() : 단어 개수 출력 함수  \n",
    "organize()함수로 source인자를 넘기기 전 source 인자의 '\\n'(줄바꿈)을 모두 지웠다.  \n",
    "self.replace('문자열', '바꿀 문자열') 구조이다. 바꿀 문자열에 ''(공백)을 넣어 문자열을 지울 수 있다.  \n",
    "none_line = source.replace(source[source.find('\\n')], '')  \n",
    "while()을 통해 none_line의 모든 인덱스를 찾아간다. 이때 none_line이 '</'이면 '>'을 만날 때까지 중간에 모든 문자열을 지운다.  \n",
    "self.replace('문자열','') 문자열에 Slicing을 사용한 none_line[index:closing_index + 1]을 넣는다.  \n",
    "meet_closing() 함수에서 none_line[i]가 '>'을 만나면 그때의 i == closing_index를 반환한다.  \n",
    "\n",
    "단어 개수를 출력 할 때는 문자열 함수 split()을 사용해 '' 기준으로 분리한다. 그 뒤 list 길이를 세면 된다.\n"
   ]
  },
  {
   "cell_type": "markdown",
   "id": "668cefea",
   "metadata": {},
   "source": []
  },
  {
   "cell_type": "markdown",
   "metadata": {},
   "source": []
  },
  {
   "cell_type": "markdown",
   "id": "a533287e",
   "metadata": {},
   "source": [
    "### 소감"
   ]
  },
  {
   "cell_type": "markdown",
   "id": "1e8eb30e",
   "metadata": {},
   "source": [
    "Incremental 과제가 많이 어려웠다. 처음에는 if-else문을 나열해 경우에 따라 나누어 생각했다. 하지만 경우마다 조건의 개수가 계속 늘어나 방법을 바꾸었다. class stack을 사용해 pop()과 append()로 list를 지우는 방식이었다. self.top, self.end, self.start 등 변수가 많아지고 변수의 index 출동이 고쳐지지 않아 또 다른 방법을 생각했다. 이번에는 string으로 접근해 replace() 함수로 문자열을 지웠다. 이 방법도 index 에서 많은 오류나 났지만 계속 고치고 고쳐 결과값을 도출할 수 있다. 이번 문제는 정답 여부가 아닌, 정답에 도달하기 위한 과정에서 포기하지 않았던 것에 뿌듯하고 기뻤다."
   ]
  }
 ],
 "metadata": {
  "kernelspec": {
   "display_name": "Python 3",
   "language": "python",
   "name": "python3"
  },
  "language_info": {
   "codemirror_mode": {
    "name": "ipython",
    "version": 3
   },
   "file_extension": ".py",
   "mimetype": "text/x-python",
   "name": "python",
   "nbconvert_exporter": "python",
   "pygments_lexer": "ipython3",
   "version": "3.8.8"
  },
  "toc": {
   "base_numbering": 1,
   "nav_menu": {},
   "number_sections": false,
   "sideBar": true,
   "skip_h1_title": false,
   "title_cell": "Table of Contents",
   "title_sidebar": "Contents",
   "toc_cell": false,
   "toc_position": {},
   "toc_section_display": true,
   "toc_window_display": true
  },
  "varInspector": {
   "cols": {
    "lenName": 16,
    "lenType": 16,
    "lenVar": 40
   },
   "kernels_config": {
    "python": {
     "delete_cmd_postfix": "",
     "delete_cmd_prefix": "del ",
     "library": "var_list.py",
     "varRefreshCmd": "print(var_dic_list())"
    },
    "r": {
     "delete_cmd_postfix": ") ",
     "delete_cmd_prefix": "rm(",
     "library": "var_list.r",
     "varRefreshCmd": "cat(var_dic_list()) "
    }
   },
   "types_to_exclude": [
    "module",
    "function",
    "builtin_function_or_method",
    "instance",
    "_Feature"
   ],
   "window_display": false
  }
 },
 "nbformat": 4,
 "nbformat_minor": 5
}
