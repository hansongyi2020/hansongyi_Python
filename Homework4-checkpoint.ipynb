{
 "cells": [
  {
   "cell_type": "markdown",
   "id": "c25e3977",
   "metadata": {},
   "source": [
    "# Homework4_스크립트프로그래밍\n",
    "## 컴퓨터공학부_2020136135_한송이¶"
   ]
  },
  {
   "cell_type": "markdown",
   "id": "c82184b3",
   "metadata": {},
   "source": [
    "다음 문제를 읽고 알맞은 코드를 제시하시오.\n",
    "\n",
    "1) 파일 s.txt 내의 다음 내용과 함께 아래 문제의 코드를 제시하시오.\n",
    "\n",
    "pig ham  \n",
    "cat dog  \n",
    "ham bird  \n",
    "dog pig"
   ]
  },
  {
   "cell_type": "code",
   "execution_count": 1,
   "id": "1ab64378",
   "metadata": {},
   "outputs": [
    {
     "name": "stdout",
     "output_type": "stream",
     "text": [
      "pig ham\n",
      "cat dog\n",
      "ham bird\n",
      "dog pig\n"
     ]
    }
   ],
   "source": [
    "with open(\"s.txt\", \"r\") as s:\n",
    "    print(s.read())"
   ]
  },
  {
   "cell_type": "markdown",
   "id": "39fe80ea",
   "metadata": {},
   "source": [
    "2) 파일 s.txt을 읽어서 각 라인에 있는 첫 번째 단어(문자열) 자체들을 기준으로 라인별 정렬후 파일 s1.txt에 그 결과를 기록하는 코드를 작성하시오.  \n",
    "즉, 프로그램 수행 후 s1.txt에 있는 파일 내용은 다음과 같다.\n",
    "\n",
    "cat dog  \n",
    "dog pig  \n",
    "ham bird  \n",
    "pig ham"
   ]
  },
  {
   "cell_type": "code",
   "execution_count": 9,
   "id": "b0956a8f",
   "metadata": {},
   "outputs": [
    {
     "name": "stdout",
     "output_type": "stream",
     "text": [
      "cat dog\n",
      "dog pig\n",
      "ham bird\n",
      "pig ham\n"
     ]
    }
   ],
   "source": [
    "with open('s.txt', 'r') as text:#s.txt를 읽기 모드로 연다\n",
    "    text_dict = {}#sorted를 위해 dict형태로 값 지정\n",
    "    \n",
    "    while True:\n",
    "        line = text.readline()\n",
    "\n",
    "        if not line:#while 조건 제어\n",
    "            break\n",
    "        line = line.rstrip('\\n')\n",
    "\n",
    "        line_list = line.split(' ')\n",
    "\n",
    "        text_dict[line_list[0]] = line_list[1] #dict 초기화    \n",
    "\n",
    "    txt = sorted(text_dict.items(), key = lambda x : x[0])\n",
    "    txt = '\\n'.join(' '.join(elems) for elems in txt)\n",
    "    \n",
    "with open('s1.txt', 'w') as s1:#s1.txt를 쓰기 모드로 연다\n",
    "    s1.write(txt)#s1.txt에 txt를 저장한다\n",
    "\n",
    "with open('s1.txt', 'r') as s1:\n",
    "    print(s1.read())"
   ]
  },
  {
   "cell_type": "markdown",
   "id": "0f644094",
   "metadata": {},
   "source": [
    "3) 파일 s.txt을 읽어서 각 라인에 있는 두 번째 단어(문자열) 자체들을 기준으로 라인별 정렬후 파일 s2.txt에 그 결과를 기록하는 코드를 작성하시오.  \n",
    "즉, 프로그램 수행 후 s2.txt에 있는 파일 내용은 다음과 같다.\n",
    "\n",
    "ham bird  \n",
    "cat dog  \n",
    "pig ham  \n",
    "dog pig"
   ]
  },
  {
   "cell_type": "code",
   "execution_count": 10,
   "id": "ea33bdb9",
   "metadata": {},
   "outputs": [
    {
     "name": "stdout",
     "output_type": "stream",
     "text": [
      "ham bird\n",
      "cat dog\n",
      "pig ham\n",
      "dog pig\n"
     ]
    }
   ],
   "source": [
    "with open('s.txt', 'r') as text:#s.txt를 읽기 모드로 연다\n",
    "    text_dict = {}#sorted를 위해 dict형태로 값 지정\n",
    "    \n",
    "    while True:\n",
    "        line = text.readline()\n",
    "\n",
    "        if not line:#while 조건 제어\n",
    "            break\n",
    "        line = line.rstrip('\\n')\n",
    "\n",
    "        line_list = line.split(' ')\n",
    "\n",
    "        text_dict[line_list[0]] = line_list[1] #dict 초기화    \n",
    "\n",
    "    txt = sorted(text_dict.items(), key = lambda x : x[1])\n",
    "    txt = '\\n'.join(' '.join(elems) for elems in txt)\n",
    "    \n",
    "with open('s2.txt', 'w') as wfile:#s1.txt를 쓰기 모드로 연다\n",
    "    wfile.write(txt)#s1.txt에 txt를 저장한다\n",
    "\n",
    "with open('s2.txt', 'r') as a:\n",
    "    print(a.read())"
   ]
  },
  {
   "cell_type": "markdown",
   "id": "b6954995",
   "metadata": {},
   "source": [
    "4) 파일 s.txt을 읽어서 각 라인들에 있는 모든 단어들을 순차적으로 다시 나열하되 각 라인에 세 개의 단어들이 오도록 하여 s3.txt에 기록하는 코드를 작성하시오. 즉, 프로그램 수행 후 s3.txt에 있는 파일 내용은 다음과 같다.\n",
    "\n",
    "pig ham cat  \n",
    "dog ham bird  \n",
    "dog pig"
   ]
  },
  {
   "cell_type": "code",
   "execution_count": 12,
   "id": "cfbf38dc",
   "metadata": {},
   "outputs": [
    {
     "name": "stdout",
     "output_type": "stream",
     "text": [
      "pig ham cat \n",
      "dog ham bird \n",
      "dog pig \n"
     ]
    }
   ],
   "source": [
    "with open('s.txt', 'r') as text:#s.txt를 읽기 모드로 연다\n",
    "    line_list = []\n",
    "    while True:\n",
    "        line = text.readline()\n",
    "\n",
    "        if not line:#while 조건 제어\n",
    "            break\n",
    "        line = line.rstrip('\\n')\n",
    "\n",
    "        line_list += line.split(' ')\n",
    "    \n",
    "with open('s3.txt', 'w') as wfile:#s1.txt를 쓰기 모드로 연다\n",
    "    count = 0\n",
    "    for i in line_list:\n",
    "        wfile.write(i +' ')#s1.txt에 txt를 저장한다\n",
    "        count += 1\n",
    "        if count%3 == 0:\n",
    "            wfile.write('\\n')\n",
    "\n",
    "with open('s3.txt', 'r') as a:\n",
    "    print(a.read())"
   ]
  },
  {
   "cell_type": "markdown",
   "id": "21b39b0e",
   "metadata": {},
   "source": [
    "2. 다음과 같은 조건들을 참고하여 회원 가입 및 로그인 프로그램을 작성하시오.  \n",
    "1) 프로그램 시작 후 다음과 같은 메시지가 출력되어 1, 2, 3 중 하나의 값을 입력 받도록 한다.  \n",
    "    Welcome to Our Service\n",
    "\n",
    "    A. Sign Up  \n",
    "    B. Sign In  \n",
    "    C. Quit"
   ]
  },
  {
   "cell_type": "code",
   "execution_count": 9,
   "id": "c2ed9855",
   "metadata": {},
   "outputs": [],
   "source": [
    "import hashlib\n",
    "IDlist = []; passwordlist = []; namelist = []                       #ID 저장 list\n",
    "\n",
    "def password_hex(Password):                                         # Password hashlib 암호화 함수\n",
    "    sha = hashlib.new('sha256')\n",
    "    sha.update(Password.encode('UTF-8'))\n",
    "    password_encrypted = sha.hexdigest()                        \n",
    "    \n",
    "    return password_encrypted\n",
    "\n",
    "def ID_redundancy(ID):                                               # ID가 중복 확인 함수\n",
    "    if len(IDlist) != 0:\n",
    "        for id in IDlist:                                        \n",
    "            if id == ID:\n",
    "                print(\"Sorry, the entered ID is already used.\")      # ID가 중복되면 print하고 다시 ID를 받는다\n",
    "                return -1\n",
    "    IDlist.append(ID)    \n",
    "    return 0                                                 "
   ]
  },
  {
   "cell_type": "code",
   "execution_count": 10,
   "id": "e0b04bac",
   "metadata": {},
   "outputs": [
    {
     "name": "stdout",
     "output_type": "stream",
     "text": [
      "Welcome to Our Service\n",
      "\n",
      "    A. Sign Up  \n",
      "    B. Sign In  \n",
      "    C. Quit\n"
     ]
    }
   ],
   "source": [
    "with open('headline.txt', 'r') as text:                             #실행문 실시\n",
    "    print(text.read())              "
   ]
  },
  {
   "cell_type": "code",
   "execution_count": 11,
   "id": "f62a6fa0",
   "metadata": {},
   "outputs": [
    {
     "name": "stdout",
     "output_type": "stream",
     "text": [
      "<1: 입력, 2: 찾기, 3: 종료> 중 하나를 입력하시오: 1\n",
      "ID: 20\n",
      "Password: 1218\n",
      "Name: HanSY\n",
      "School: KOREA\n",
      "<1: 입력, 2: 찾기, 3: 종료> 중 하나를 입력하시오: 1\n",
      "ID: 21\n",
      "Password: 2221\n",
      "Name: KimBS\n",
      "School: KOREA\n",
      "<1: 입력, 2: 찾기, 3: 종료> 중 하나를 입력하시오: 1\n",
      "ID: 22\n",
      "Password: 9988\n",
      "Name: Jinjin\n",
      "School: KOREA\n",
      "<1: 입력, 2: 찾기, 3: 종료> 중 하나를 입력하시오: 1\n",
      "ID: 20\n",
      "Sorry, the entered ID is already used.\n",
      "ID: 23\n",
      "Password: 7765\n",
      "Name: Sines\n",
      "School: KOREA\n",
      "<1: 입력, 2: 찾기, 3: 종료> 중 하나를 입력하시오: 2\n",
      "ID: 20\n",
      "Password: 1218\n",
      "Hello [HanSY]!\n",
      "Password: 188\n",
      "Sorry, the entered password is not correct.\n",
      "Password: q\n",
      "ID: 27\n",
      "Sorry, you are not a registered member.\n",
      "ID: q\n",
      "<1: 입력, 2: 찾기, 3: 종료> 중 하나를 입력하시오: 3\n"
     ]
    }
   ],
   "source": [
    "while(1):\n",
    "    n = int(input(\"<1: 입력, 2: 찾기, 3: 종료> 중 하나를 입력하시오: \"))                  #case 1, 2, 3 선택                                          \n",
    "    if n == 1:                                                       # 1 선택\n",
    "        while(1):\n",
    "            ID = input('ID: ')                                       # ID 를 받는다\n",
    "\n",
    "            if ID_redundancy(ID) == -1:                              # ID 중복 확인\n",
    "                continue                                   # ID가 중복 되면 다시 ID를 받는다\n",
    "\n",
    "            Password = input('Password: ')                           #Password를 받는다\n",
    "            password_encrypted = password_hex(Password)                           \n",
    "            passwordlist.append(password_encrypted)\n",
    "\n",
    "            Name = input('Name: '); namelist.append(Name)\n",
    "            School = input('School: ')          #Name, School을 받는다\n",
    "\n",
    "            with open('access.txt', 'a') as access:                    #access.txt 파일에 변수 저장\n",
    "                access.write('[' + ID + ']: [' + password_encrypted + '], [' + Name + '], [' + School + ']\\n')\n",
    "                break    \n",
    "\n",
    "    elif n == 2:\n",
    "        while(1):\n",
    "            ID = input('ID: ')                                       # ID 를 받는다    \n",
    "            if ID == 'q': break \n",
    "\n",
    "            for id in IDlist:\n",
    "                if id != ID:  \n",
    "                    if id == IDlist[len(IDlist) -1]:                  # ID가 정보에 없다\n",
    "                        print(\"Sorry, you are not a registered member.\")              # ID 를 받는다   \n",
    "                    continue\n",
    "                else:  \n",
    "                    while(1): \n",
    "                        Password = input('Password: ')                      # ID가 정보에 저장되어있다.-> password를 받는다.\n",
    "                        if Password == 'q': break\n",
    "                        password_encrypted = password_hex(Password)                           \n",
    "                        index = -1\n",
    "\n",
    "                        for pw in passwordlist:                                    \n",
    "                            index += 1\n",
    "                            if pw != password_encrypted:\n",
    "                                if pw == passwordlist[len(passwordlist) - 1]:  # PW가 정보에 없다\n",
    "                                    print(\"Sorry, the entered password is not correct.\")                                    \n",
    "                                continue\n",
    "                            else:\n",
    "                                name = namelist[index]                          # PW가 정보에 있다\n",
    "                                print(\"Hello [{}]!\".format(name))               # ID, PW 모두 저장된 정보와 일치 -> name을 출력\n",
    "                                break\n",
    "                    break       \n",
    "\n",
    "    else:\n",
    "        break "
   ]
  },
  {
   "cell_type": "markdown",
   "id": "e0a4eb7b",
   "metadata": {},
   "source": [
    "#### 1번 선택"
   ]
  },
  {
   "attachments": {
    "%EC%A0%9C%EB%AA%A9%20%EC%97%86%EC%9D%8C.png": {
     "image/png": "[encoded data removed]"
    }
   },
   "cell_type": "markdown",
   "id": "81038fbd",
   "metadata": {},
   "source": [
    "![%EC%A0%9C%EB%AA%A9%20%EC%97%86%EC%9D%8C.png](attachment:%EC%A0%9C%EB%AA%A9%20%EC%97%86%EC%9D%8C.png)"
   ]
  },
  {
   "cell_type": "markdown",
   "id": "ea7a5a98",
   "metadata": {},
   "source": [
    "#### access.txt "
   ]
  },
  {
   "attachments": {
    "%EC%A0%9C%EB%AA%A9%20%EC%97%86%EC%9D%8C2.png": {
     "image/png": "[encoded data removed]"
    }
   },
   "cell_type": "markdown",
   "id": "7f150f17",
   "metadata": {},
   "source": [
    "![%EC%A0%9C%EB%AA%A9%20%EC%97%86%EC%9D%8C2.png](attachment:%EC%A0%9C%EB%AA%A9%20%EC%97%86%EC%9D%8C2.png)"
   ]
  },
  {
   "cell_type": "markdown",
   "id": "289329b8",
   "metadata": {},
   "source": [
    "#### 2번 선택"
   ]
  },
  {
   "attachments": {
    "%EC%A0%9C%EB%AA%A9%20%EC%97%86%EC%9D%8C3.png": {
     "image/png": "[encoded data removed]"
    }
   },
   "cell_type": "markdown",
   "id": "b28ff4ee",
   "metadata": {},
   "source": [
    "![%EC%A0%9C%EB%AA%A9%20%EC%97%86%EC%9D%8C3.png](attachment:%EC%A0%9C%EB%AA%A9%20%EC%97%86%EC%9D%8C3.png)"
   ]
  },
  {
   "cell_type": "markdown",
   "id": "dcadc879",
   "metadata": {},
   "source": [
    "3. range() 함수와 유사한 frange() 함수를 다음 조건을 참고하여 만드시오.\n",
    "\n",
    "1) frange()의 인자 구성은 다음과 같이 range와 동일하지만 각 인수들은 음수를 받지 않는다고 가정한다.  \n",
    "   - range(stop)  \n",
    "   - range(start, stop[, step])\n",
    "\n",
    "2) frange() 함수의 인자에 대한 기본 시작(start) 값은 0.0이고, 기본 단계(step) 값은 0.1이다.  \n",
    "3) frange 사용 예  \n",
    " 3-1) frange(0.5)  \n",
    " [0.0, 0.1, 0.2, 0.3, 0.4]  \n",
    " 3-2) frange(1.0, 2.0)  \n",
    " [1.0, 1.1, 1.2, 1.3, 1.4, 1.5, 1.6, 1.7, 1.8, 1.9]  \n",
    " 3-3) frange(2.2, 4.0, 0.5)  \n",
    " [2.2, 2.7, 3.2, 3.7]"
   ]
  },
  {
   "cell_type": "code",
   "execution_count": 18,
   "id": "66dba8e8",
   "metadata": {},
   "outputs": [],
   "source": [
    "def frange(stop):\n",
    "    i = 0.0\n",
    "    print(\"[\",end =\"\")\n",
    "    while(i < stop):\n",
    "        print(\"{:.1f}\".format(i),end =\", \")\n",
    "        i += 0.1\n",
    "    print(\"]\")"
   ]
  },
  {
   "cell_type": "code",
   "execution_count": 19,
   "id": "93dd419e",
   "metadata": {},
   "outputs": [
    {
     "name": "stdout",
     "output_type": "stream",
     "text": [
      "[0.0, 0.1, 0.2, 0.3, 0.4, ]\n"
     ]
    }
   ],
   "source": [
    "frange(0.5)"
   ]
  },
  {
   "cell_type": "code",
   "execution_count": 24,
   "id": "dfa3136b",
   "metadata": {},
   "outputs": [],
   "source": [
    "def frange(start, stop, step = 0.1):\n",
    "    i = start\n",
    "    print(\"[\",end =\"\")\n",
    "    while(i < stop):\n",
    "        print(\"{:.1f}\".format(i),end =\", \")\n",
    "        i += step\n",
    "    print(\"]\")"
   ]
  },
  {
   "cell_type": "code",
   "execution_count": 25,
   "id": "5c95ed9f",
   "metadata": {},
   "outputs": [
    {
     "name": "stdout",
     "output_type": "stream",
     "text": [
      "[1.0, 1.1, 1.2, 1.3, 1.4, 1.5, 1.6, 1.7, 1.8, 1.9, ]\n"
     ]
    }
   ],
   "source": [
    "frange(1.0, 2.0)"
   ]
  },
  {
   "cell_type": "code",
   "execution_count": 26,
   "id": "3087d5c7",
   "metadata": {},
   "outputs": [
    {
     "name": "stdout",
     "output_type": "stream",
     "text": [
      "[2.2, 2.7, 3.2, 3.7, ]\n"
     ]
    }
   ],
   "source": [
    " frange(2.2, 4.0, 0.5)"
   ]
  },
  {
   "cell_type": "markdown",
   "id": "1c0cc244",
   "metadata": {},
   "source": [
    "4. 가변인수를 받는 함수 sum()을 다음과 같은 조건을 참고하여 구현하시오\n",
    "\n",
    "sum() 사용 예  \n",
    "sum()  \n",
    "0\n",
    "\n",
    "sum(1, 2)  \n",
    "3\n",
    "\n",
    "sum(1, 2, 3, 4, 5)  \n",
    "15\n",
    "\n",
    "sum(1, 5, 7, 2, -10)  \n",
    "5"
   ]
  },
  {
   "cell_type": "code",
   "execution_count": 2,
   "id": "f92d3375",
   "metadata": {},
   "outputs": [
    {
     "name": "stdout",
     "output_type": "stream",
     "text": [
      "15\n"
     ]
    }
   ],
   "source": [
    "from functools import reduce\n",
    "\n",
    "def sum(x, y):\n",
    "    return x + y\n",
    "\n",
    "list = 1, 2, 3, 4, 5\n",
    "\n",
    "result = reduce(sum, list)\n",
    "print(result)"
   ]
  },
  {
   "cell_type": "markdown",
   "id": "32f72849",
   "metadata": {},
   "source": [
    "5. 여러 단어로 이루어진 문자열을 입력받아 각 단어의 첫글자로 이루어진 단어를 대문자로 출력하는 myinitial() 함수를 다음 조건을 참고하여 작성하시오.\n",
    "\n",
    "1) 다음에 제시되는 함수들을 모두 이용해야 한다.\n",
    "\n",
    "split  \n",
    "map  \n",
    "join  \n",
    "2) myinitial() 함수 사용 예\n",
    "\n",
    "myinitial(\"as soon as possible\")  \n",
    "ASAP"
   ]
  },
  {
   "cell_type": "code",
   "execution_count": 8,
   "id": "7103d0ad",
   "metadata": {},
   "outputs": [
    {
     "name": "stdout",
     "output_type": "stream",
     "text": [
      "HSY\n"
     ]
    }
   ],
   "source": [
    "def myinitial(string):\n",
    "    string = string.title()\n",
    "    line = string.split(\" \")\n",
    "    line_Ti = map(lambda x: x[0], line)\n",
    "    return \"\".join(line_Ti)\n",
    "\n",
    "string = \"han song yi\"\n",
    "print(myinitial(string))"
   ]
  },
  {
   "cell_type": "markdown",
   "id": "eaa0eddb",
   "metadata": {},
   "source": [
    "6. 음이 아닌 정수 n를 입력받으면 n! (factorial)을 계산하는 myfact() 함수를 재귀적 함수로 구현하시오.  \n",
    "[옵션] 참을 수 있는 정도 만큼의 수행시간을 직접 기다려보면서 n을 늘려보도록 합시다."
   ]
  },
  {
   "cell_type": "code",
   "execution_count": 10,
   "id": "075a4ba2",
   "metadata": {},
   "outputs": [
    {
     "name": "stdout",
     "output_type": "stream",
     "text": [
      "402387260077093773543702433923003985719374864210714632543799910429938512398629020592044208486969404800479988610197196058631666872994808558901323829669944590997424504087073759918823627727188732519779505950995276120874975462497043601418278094646496291056393887437886487337119181045825783647849977012476632889835955735432513185323958463075557409114262417474349347553428646576611667797396668820291207379143853719588249808126867838374559731746136085379534524221586593201928090878297308431392844403281231558611036976801357304216168747609675871348312025478589320767169132448426236131412508780208000261683151027341827977704784635868170164365024153691398281264810213092761244896359928705114964975419909342221566832572080821333186116811553615836546984046708975602900950537616475847728421889679646244945160765353408198901385442487984959953319101723355556602139450399736280750137837615307127761926849034352625200015888535147331611702103968175921510907788019393178114194545257223865541461062892187960223838971476088506276862967146674697562911234082439208160153780889893964518263243671616762179168909779911903754031274622289988005195444414282012187361745992642956581746628302955570299024324153181617210465832036786906117260158783520751516284225540265170483304226143974286933061690897968482590125458327168226458066526769958652682272807075781391858178889652208164348344825993266043367660176999612831860788386150279465955131156552036093988180612138558600301435694527224206344631797460594682573103790084024432438465657245014402821885252470935190620929023136493273497565513958720559654228749774011413346962715422845862377387538230483865688976461927383814900140767310446640259899490222221765904339901886018566526485061799702356193897017860040811889729918311021171229845901641921068884387121855646124960798722908519296819372388642614839657382291123125024186649353143970137428531926649875337218940694281434118520158014123344828015051399694290153483077644569099073152433278288269864602789864321139083506217095002597389863554277196742822248757586765752344220207573630569498825087968928162753848863396909959826280956121450994871701244516461260379029309120889086942028510640182154399457156805941872748998094254742173582401063677404595741785160829230135358081840096996372524230560855903700624271243416909004153690105933983835777939410970027753472000000000000000000000000000000000000000000000000000000000000000000000000000000000000000000000000000000000000000000000000000000000000000000000000000000000000000000000000000000000000000000000000000000000000000000000000000000000000000000000000000000000\n"
     ]
    }
   ],
   "source": [
    "def myfact(n):\n",
    "    if n == 1 or n == 0:\n",
    "        return 1\n",
    "    return n * myfact(n-1)\n",
    "\n",
    "n=1000\n",
    "print(myfact(n))"
   ]
  },
  {
   "cell_type": "markdown",
   "id": "111e041d",
   "metadata": {},
   "source": [
    "7. (서술형) import string 과 from string import * 의 차이점을 설명하시오."
   ]
  },
  {
   "cell_type": "markdown",
   "id": "c439591b",
   "metadata": {},
   "source": [
    "import string은 string 모듈의 여러 함수를 사용하고 싶을 때 string.함수이름()과 같은 형식으로 사용해야 한다.  \n",
    "반면 from string import *는 string 모듈의 함수를 string 없이 함수이름()으로 바로 사용할 수 있다."
   ]
  },
  {
   "cell_type": "markdown",
   "id": "5e74e2b0",
   "metadata": {},
   "source": [
    "## Incremental"
   ]
  },
  {
   "cell_type": "code",
   "execution_count": null,
   "id": "cde7480a",
   "metadata": {},
   "outputs": [],
   "source": [
    "import requests\n",
    "\n",
    "req = requests.get('https://namu.wiki/w/%EC%B0%A8%EC%9D%80%EC%9A%B0')\n",
    "source = req.text"
   ]
  },
  {
   "cell_type": "code",
   "execution_count": null,
   "id": "1b4c60ac",
   "metadata": {},
   "outputs": [],
   "source": [
    "for i in range(len(source)):\n",
    "    if source.find('\\n') >= 0:\n",
    "        none_line = source.replace(source[source.find('\\n')], '')"
   ]
  },
  {
   "cell_type": "code",
   "execution_count": null,
   "id": "abdcc146",
   "metadata": {},
   "outputs": [],
   "source": [
    "def organize(none_line, length):#문자열 none_line\n",
    "    index = 0\n",
    "    while True:#문자열 첫 인덱스부터 check\n",
    "        if none_line[index] in '</':#값이 </로 시작하면 \n",
    "            closing_index = meet_closing(none_line, index, length)\n",
    "            text = none_line[index:closing_index + 1]\n",
    "            if text == \"</head>\" or text == \"</div>\" or text == \"</script>\" or text == \"<script>\":\n",
    "                closing_index = meet_same(none_line, closing_index, length)\n",
    "                none_line = none_line.replace(none_line[index:closing_index + 1], \"\")\n",
    "            else:\n",
    "                none_line = none_line.replace(none_line[index:closing_index + 1], \"\")#</부터 >인덱스까지 문자열 제거\n",
    "            length = length - (closing_index - index + 1)#전체 길이 다시 초기화\n",
    "\n",
    "        else:#값이 </로 시작하지 않으면 \n",
    "            index += 1#계속 문자열 탐색\n",
    "        \n",
    "        if errorlength(none_line, index) == True:#while 문 break\n",
    "            break\n",
    "              \n",
    "    return none_line#문자열 return\n",
    "\n",
    "def meet_same(none_line, closing_index, length):\n",
    "    for i in range(closing_index + 1, length):\n",
    "        if none_line[i] in '<':\n",
    "            reclosing_index = meet_closing(none_line, i, length)\n",
    "            text = none_line[i : reclosing_index + 1]\n",
    "            if text == \"</div>\" or text == \"</html>\":\n",
    "                return reclosing_index\n",
    "\n",
    "def meet_closing(none_line, index, length):#클로징 문자열 > 인덱스 찾기\n",
    "    for i in range(index , length):\n",
    "        if none_line[i] in '>':\n",
    "            return i\n",
    "\n",
    "def errorlength(none_line, index):#while문 제어\n",
    "    return len(none_line) == index"
   ]
  },
  {
   "cell_type": "code",
   "execution_count": null,
   "id": "2575322b",
   "metadata": {},
   "outputs": [],
   "source": [
    "length = len(source)\n",
    "text_line = organize(source, length) \n",
    "text_line = text_line.split() \n",
    "\n",
    "for text in text_line:\n",
    "    if text == \"=\":\n",
    "        pos = text_line.index(text)\n",
    "        del text_line[pos -1 : pos + 2]"
   ]
  },
  {
   "cell_type": "code",
   "execution_count": null,
   "id": "7585e1a1",
   "metadata": {},
   "outputs": [],
   "source": [
    "def punctuation_character(text_line):#count \n",
    "    text_line = ' '.join(text_line)\n",
    "    for text in text_line: \n",
    "        ot = ord(text)\n",
    "        if (ot > 32 and ot < 48) or (ot > 57 and ot < 65) or ( ot > 90 and ot < 97) or (ot > 122 and ot < 128):#구두문자\n",
    "            text_line = text_line.replace(text, \"\")\n",
    "    text_line = text_line.split() \n",
    "    return text_line\n",
    "\n",
    "text_line = punctuation_character(text_line)"
   ]
  },
  {
   "cell_type": "code",
   "execution_count": null,
   "id": "2f96b6e3",
   "metadata": {},
   "outputs": [],
   "source": [
    "def frequency(text_line):\n",
    "    dic_count = {}\n",
    "    for text in text_line:\n",
    "        if text in dic_count:\n",
    "            dic_count[text] += 1\n",
    "        else:\n",
    "            dic_count[text] = 1\n",
    "    return dic_count\n",
    "\n",
    "dic_count= frequency(text_line)\n",
    "print(\"사전: \", dic_count)"
   ]
  },
  {
   "cell_type": "code",
   "execution_count": null,
   "id": "d59e96e4",
   "metadata": {},
   "outputs": [],
   "source": [
    "import pickle\n",
    "with open('www.newsstand.naver.com.words_frequency.pickle', 'wb') as f:\n",
    "    pickle.dump(dic_count, f)"
   ]
  },
  {
   "cell_type": "code",
   "execution_count": null,
   "id": "794b0096",
   "metadata": {},
   "outputs": [],
   "source": [
    "import nltk\n",
    "nltk.download('stopwords')\n",
    "from nltk.corpus import stopwords \n",
    "\n",
    "def delete_bool(text_line): \n",
    "    stop_words = tuple(stopwords.words('english')) \n",
    "\n",
    "    result = []\n",
    "    for w in text_line: \n",
    "        if w not in stop_words: \n",
    "            result.append(w) \n",
    "    \n",
    "    with open(\"Hanbool.txt\", \"r\", encoding='UTF-8') as han:\n",
    "        stop_words = tuple(han.read().split('\\n'))\n",
    "        result = [word for word in result if not word in stop_words]\n",
    "\n",
    "    return result "
   ]
  },
  {
   "cell_type": "code",
   "execution_count": null,
   "id": "e9429834",
   "metadata": {},
   "outputs": [],
   "source": [
    "print(\"불용어 제거 list: \", delete_bool(text_line))"
   ]
  },
  {
   "cell_type": "code",
   "execution_count": null,
   "id": "f19c7fce",
   "metadata": {},
   "outputs": [],
   "source": [
    "def JaccardSimilarity(inp1, inp2):\n",
    "    mom = set(inp1).union(set(inp2))\n",
    "    son = set(inp1).intersection(set(inp2))\n",
    "    \n",
    "    return len(son)/len(mom)"
   ]
  },
  {
   "cell_type": "code",
   "execution_count": null,
   "id": "b667b4ef",
   "metadata": {},
   "outputs": [],
   "source": [
    "word = input(\"입력: \").split(\" \")\n",
    "newword = delete_bool(word)"
   ]
  },
  {
   "cell_type": "markdown",
   "id": "2d7fdae3",
   "metadata": {},
   "source": [
    "#### URL01"
   ]
  },
  {
   "cell_type": "code",
   "execution_count": null,
   "id": "c1504bd3",
   "metadata": {},
   "outputs": [],
   "source": [
    "with open(\"www.namu.wiki.w.words_frequency.pickle\", \"rb\") as r:\n",
    "    read_data = pickle.load(r)\n",
    "    read_data = dict(sorted(read_data.items(), key = lambda x:x[1], reverse = True))\n",
    "    \n",
    "    cnt = 0\n",
    "    for key in read_data.keys():\n",
    "        cnt += 1\n",
    "        if cnt == 4:\n",
    "            break\n",
    "        print(\"{} : {}\".format(key, read_data[key]), end =\"   \")\n",
    "        \n",
    "    inp1 = newword\n",
    "    inp2 = set(read_data)\n",
    "    similarity01 = JaccardSimilarity(inp1, inp2)\n",
    "    print(similarity01)"
   ]
  },
  {
   "cell_type": "markdown",
   "id": "6f58c795",
   "metadata": {},
   "source": [
    "#### URL02"
   ]
  },
  {
   "cell_type": "code",
   "execution_count": null,
   "id": "5a9b8e47",
   "metadata": {},
   "outputs": [],
   "source": [
    "with open(\"www.python.org.words_frequency.pickle\", \"rb\") as r:\n",
    "    read_data = pickle.load(r)\n",
    "    read_data = dict(sorted(read_data.items(), key = lambda x:x[1], reverse = True))\n",
    "    \n",
    "    cnt = 0\n",
    "    for key in read_data.keys():\n",
    "        cnt += 1\n",
    "        if cnt == 4:\n",
    "            break\n",
    "        print(\"{} : {}\".format(key, read_data[key]), end =\"   \")\n",
    "        \n",
    "    inp1 = newword\n",
    "    inp2 = set(read_data)\n",
    "    similarity02 = JaccardSimilarity(inp1, inp2)\n",
    "    print(similarity02)"
   ]
  },
  {
   "cell_type": "markdown",
   "id": "47a4ffd0",
   "metadata": {},
   "source": [
    "#### URL03"
   ]
  },
  {
   "cell_type": "code",
   "execution_count": null,
   "id": "cdfefe9e",
   "metadata": {},
   "outputs": [],
   "source": [
    "with open(\"www.mail.naver.com.words_frequency.pickle\", \"rb\") as r:\n",
    "    read_data = pickle.load(r)\n",
    "    read_data = dict(sorted(read_data.items(), key = lambda x:x[1], reverse = True))\n",
    "    \n",
    "    cnt = 0\n",
    "    for key in read_data.keys():\n",
    "        cnt += 1\n",
    "        if cnt == 4:\n",
    "            break\n",
    "        print(\"{} : {}\".format(key, read_data[key]), end =\"   \")\n",
    "        \n",
    "    inp1 = newword\n",
    "    inp2 = set(read_data)\n",
    "    similarity03 = JaccardSimilarity(inp1, inp2)\n",
    "    print(similarity03)"
   ]
  },
  {
   "cell_type": "markdown",
   "id": "2ab87983",
   "metadata": {},
   "source": [
    "#### URL04"
   ]
  },
  {
   "cell_type": "code",
   "execution_count": null,
   "id": "f6d2abf1",
   "metadata": {},
   "outputs": [],
   "source": [
    "with open(\"www.newsstand.naver.com.words_frequency.pickle\", \"rb\") as r:\n",
    "    read_data = pickle.load(r)\n",
    "    read_data = dict(sorted(read_data.items(), key = lambda x:x[1], reverse = True))\n",
    "    \n",
    "    cnt = 0\n",
    "    for key in read_data.keys():\n",
    "        cnt += 1\n",
    "        if cnt == 4:\n",
    "            break\n",
    "        print(\"{} : {}\".format(key, read_data[key]), end =\"   \")\n",
    "        \n",
    "    inp1 = newword\n",
    "    inp2 = set(read_data)\n",
    "    similarity04 = JaccardSimilarity(inp1, inp2)\n",
    "    print(similarity04)"
   ]
  },
  {
   "cell_type": "markdown",
   "id": "978776b9",
   "metadata": {},
   "source": [
    "#### URL05"
   ]
  },
  {
   "cell_type": "code",
   "execution_count": null,
   "id": "708068b5",
   "metadata": {},
   "outputs": [],
   "source": [
    "with open(\"www.terms.naver.com.words_frequency.pickle\", \"rb\") as r:\n",
    "    read_data = pickle.load(r)\n",
    "    read_data = dict(sorted(read_data.items(), key = lambda x:x[1], reverse = True))\n",
    "    \n",
    "    cnt = 0\n",
    "    for key in read_data.keys():\n",
    "        cnt += 1\n",
    "        if cnt == 4:\n",
    "            break\n",
    "        print(\"{} : {}\".format(key, read_data[key]), end =\"   \")\n",
    "        \n",
    "    inp1 = newword\n",
    "    inp2 = set(read_data)\n",
    "    similarity05 = JaccardSimilarity(inp1, inp2)\n",
    "    print(similarity05)"
   ]
  },
  {
   "cell_type": "code",
   "execution_count": null,
   "id": "69f2ec27",
   "metadata": {},
   "outputs": [],
   "source": [
    "dict_similar = {\"namu.wiki.w.html\" : similarity01, \"python.org.html\" : similarity02, \"mail.naver.com.html\" : similarity03, \"newsstand.naver.com.html\" : similarity04, \"terms.naver.html\" : similarity05}\n",
    "\n",
    "dict_similar = sorted(dict_similar.items(), key = lambda x: x[1], reverse = True)\n",
    "print(dict_similar)\n",
    "        \n",
    "\n",
    "for i, val in enumerate(dict_similar):\n",
    "    print(\"{}. {}\".format(i, val[0])) "
   ]
  },
  {
   "cell_type": "markdown",
   "id": "b1744770",
   "metadata": {},
   "source": [
    "#### 상업적인 완성도 높은 검색 로봇/엔진이 되려면 어떤 기능들이 추가적으로 구현되어야 할지 최소 1가지 이상 제시하시오.¶"
   ]
  },
  {
   "cell_type": "markdown",
   "id": "8a895dab",
   "metadata": {},
   "source": [
    "검색 순위를 선정할 때 고려해야 하는 사항을 늘려야 한다. 예를 들어 이 웹페이지는 단어(키워드)를 몇 번 반복하여 포함하는가? 이 단어가 제목, URL에 포함되어 있는가? 직접 연결되어 있는가? 페이지에 키워드의 동의어가 포함 되어 있는가? 이 웹사이트의 품질은 우수한가 아니면 낮은 것인가? 혹은 스팸 사이트인가? 등의 고려 사항을 늘려가며 검색 기능을 추가적으로 구현한다.\n",
    "\n"
   ]
  }
 ],
 "metadata": {
  "kernelspec": {
   "display_name": "Python 3",
   "language": "python",
   "name": "python3"
  },
  "language_info": {
   "codemirror_mode": {
    "name": "ipython",
    "version": 3
   },
   "file_extension": ".py",
   "mimetype": "text/x-python",
   "name": "python",
   "nbconvert_exporter": "python",
   "pygments_lexer": "ipython3",
   "version": "3.8.8"
  },
  "toc": {
   "base_numbering": 1,
   "nav_menu": {},
   "number_sections": false,
   "sideBar": true,
   "skip_h1_title": false,
   "title_cell": "Table of Contents",
   "title_sidebar": "Contents",
   "toc_cell": false,
   "toc_position": {},
   "toc_section_display": true,
   "toc_window_display": true
  },
  "varInspector": {
   "cols": {
    "lenName": 16,
    "lenType": 16,
    "lenVar": 40
   },
   "kernels_config": {
    "python": {
     "delete_cmd_postfix": "",
     "delete_cmd_prefix": "del ",
     "library": "var_list.py",
     "varRefreshCmd": "print(var_dic_list())"
    },
    "r": {
     "delete_cmd_postfix": ") ",
     "delete_cmd_prefix": "rm(",
     "library": "var_list.r",
     "varRefreshCmd": "cat(var_dic_list()) "
    }
   },
   "types_to_exclude": [
    "module",
    "function",
    "builtin_function_or_method",
    "instance",
    "_Feature"
   ],
   "window_display": false
  }
 },
 "nbformat": 4,
 "nbformat_minor": 5
}
